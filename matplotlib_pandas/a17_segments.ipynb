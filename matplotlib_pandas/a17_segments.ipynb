{
  "nbformat": 4,
  "nbformat_minor": 0,
  "metadata": {
    "colab": {
      "name": "a17_segments.ipynb",
      "provenance": []
    },
    "kernelspec": {
      "name": "python3",
      "display_name": "Python 3"
    },
    "language_info": {
      "name": "python"
    }
  },
  "cells": [
    {
      "cell_type": "code",
      "metadata": {
        "id": "1Ttz-3iP7B_l"
      },
      "source": [
        "import pandas as pd\n",
        "import numpy as np"
      ],
      "execution_count": null,
      "outputs": []
    },
    {
      "cell_type": "code",
      "metadata": {
        "id": "LQeda-rL7L8_"
      },
      "source": [
        "%matplotlib inline\n",
        "import matplotlib.pyplot as plt\n",
        "import seaborn as sns"
      ],
      "execution_count": null,
      "outputs": []
    },
    {
      "cell_type": "code",
      "metadata": {
        "id": "8ei4-XP67MpS"
      },
      "source": [
        "payments = pd.read_csv(\"/content/drive/MyDrive/some_data/A17_payments.csv\") #, index_col=0)"
      ],
      "execution_count": null,
      "outputs": []
    },
    {
      "cell_type": "code",
      "metadata": {
        "colab": {
          "base_uri": "https://localhost:8080/",
          "height": 348
        },
        "id": "MK9hTaA85_md",
        "outputId": "4850cc54-c640-42c4-fb2c-9585b1185cfa"
      },
      "source": [
        "payments"
      ],
      "execution_count": null,
      "outputs": [
        {
          "output_type": "execute_result",
          "data": {
            "text/html": [
              "<div>\n",
              "<style scoped>\n",
              "    .dataframe tbody tr th:only-of-type {\n",
              "        vertical-align: middle;\n",
              "    }\n",
              "\n",
              "    .dataframe tbody tr th {\n",
              "        vertical-align: top;\n",
              "    }\n",
              "\n",
              "    .dataframe thead th {\n",
              "        text-align: right;\n",
              "    }\n",
              "</style>\n",
              "<table border=\"1\" class=\"dataframe\">\n",
              "  <thead>\n",
              "    <tr style=\"text-align: right;\">\n",
              "      <th></th>\n",
              "      <th>birth</th>\n",
              "      <th>start</th>\n",
              "      <th>jan_mar</th>\n",
              "      <th>apr_jun</th>\n",
              "      <th>jul_sep</th>\n",
              "      <th>oct_dec</th>\n",
              "    </tr>\n",
              "  </thead>\n",
              "  <tbody>\n",
              "    <tr>\n",
              "      <th>Анисимов</th>\n",
              "      <td>23/09/1972</td>\n",
              "      <td>14/03/2004</td>\n",
              "      <td>2115</td>\n",
              "      <td>2300</td>\n",
              "      <td>3150</td>\n",
              "      <td>3625</td>\n",
              "    </tr>\n",
              "    <tr>\n",
              "      <th>Богословский</th>\n",
              "      <td>15/11/1969</td>\n",
              "      <td>05/08/2003</td>\n",
              "      <td>2575</td>\n",
              "      <td>2365</td>\n",
              "      <td>2480</td>\n",
              "      <td>1825</td>\n",
              "    </tr>\n",
              "    <tr>\n",
              "      <th>Гуреев</th>\n",
              "      <td>06/09/1963</td>\n",
              "      <td>29/12/2000</td>\n",
              "      <td>3060</td>\n",
              "      <td>2370</td>\n",
              "      <td>1825</td>\n",
              "      <td>1670</td>\n",
              "    </tr>\n",
              "    <tr>\n",
              "      <th>Кузьмин</th>\n",
              "      <td>05/04/1964</td>\n",
              "      <td>02/12/2003</td>\n",
              "      <td>2010</td>\n",
              "      <td>1945</td>\n",
              "      <td>2385</td>\n",
              "      <td>2010</td>\n",
              "    </tr>\n",
              "    <tr>\n",
              "      <th>Лобов</th>\n",
              "      <td>02/05/1967</td>\n",
              "      <td>24/11/2002</td>\n",
              "      <td>3010</td>\n",
              "      <td>2590</td>\n",
              "      <td>2425</td>\n",
              "      <td>1360</td>\n",
              "    </tr>\n",
              "    <tr>\n",
              "      <th>Михайлюк</th>\n",
              "      <td>25/06/1968</td>\n",
              "      <td>06/07/2003</td>\n",
              "      <td>3185</td>\n",
              "      <td>1290</td>\n",
              "      <td>2670</td>\n",
              "      <td>3120</td>\n",
              "    </tr>\n",
              "    <tr>\n",
              "      <th>Прошкин</th>\n",
              "      <td>11/08/1971</td>\n",
              "      <td>10/05/1998</td>\n",
              "      <td>2940</td>\n",
              "      <td>2745</td>\n",
              "      <td>3090</td>\n",
              "      <td>2850</td>\n",
              "    </tr>\n",
              "    <tr>\n",
              "      <th>Русаков</th>\n",
              "      <td>04/02/1976</td>\n",
              "      <td>23/04/2001</td>\n",
              "      <td>1215</td>\n",
              "      <td>2140</td>\n",
              "      <td>2375</td>\n",
              "      <td>1490</td>\n",
              "    </tr>\n",
              "    <tr>\n",
              "      <th>Хаматов</th>\n",
              "      <td>28/12/1974</td>\n",
              "      <td>03/01/1999</td>\n",
              "      <td>1945</td>\n",
              "      <td>2655</td>\n",
              "      <td>3790</td>\n",
              "      <td>1875</td>\n",
              "    </tr>\n",
              "    <tr>\n",
              "      <th>Яковлев</th>\n",
              "      <td>29/05/1970</td>\n",
              "      <td>16/09/2002</td>\n",
              "      <td>2170</td>\n",
              "      <td>2940</td>\n",
              "      <td>3710</td>\n",
              "      <td>2075</td>\n",
              "    </tr>\n",
              "  </tbody>\n",
              "</table>\n",
              "</div>"
            ],
            "text/plain": [
              "                   birth       start  jan_mar  apr_jun  jul_sep  oct_dec\n",
              "Анисимов      23/09/1972  14/03/2004     2115     2300     3150     3625\n",
              "Богословский  15/11/1969  05/08/2003     2575     2365     2480     1825\n",
              "Гуреев        06/09/1963  29/12/2000     3060     2370     1825     1670\n",
              "Кузьмин       05/04/1964  02/12/2003     2010     1945     2385     2010\n",
              "Лобов         02/05/1967  24/11/2002     3010     2590     2425     1360\n",
              "Михайлюк      25/06/1968  06/07/2003     3185     1290     2670     3120\n",
              "Прошкин       11/08/1971  10/05/1998     2940     2745     3090     2850\n",
              "Русаков       04/02/1976  23/04/2001     1215     2140     2375     1490\n",
              "Хаматов       28/12/1974  03/01/1999     1945     2655     3790     1875\n",
              "Яковлев       29/05/1970  16/09/2002     2170     2940     3710     2075"
            ]
          },
          "metadata": {
            "tags": []
          },
          "execution_count": 127
        }
      ]
    },
    {
      "cell_type": "code",
      "metadata": {
        "colab": {
          "base_uri": "https://localhost:8080/"
        },
        "id": "SDDiukhZ7c3h",
        "outputId": "c3c581f2-b5e8-4695-c035-20cfcff0e410"
      },
      "source": [
        "payments.dtypes"
      ],
      "execution_count": null,
      "outputs": [
        {
          "output_type": "execute_result",
          "data": {
            "text/plain": [
              "birth      object\n",
              "start      object\n",
              "jan_mar     int64\n",
              "apr_jun     int64\n",
              "jul_sep     int64\n",
              "oct_dec     int64\n",
              "dtype: object"
            ]
          },
          "metadata": {
            "tags": []
          },
          "execution_count": 128
        }
      ]
    },
    {
      "cell_type": "code",
      "metadata": {
        "id": "m5jLZ9ez9gEx"
      },
      "source": [
        "payments[\"birth\"] = pd.to_datetime(payments[\"birth\"], dayfirst=True)\n",
        "payments[\"start\"] = pd.to_datetime(payments[\"start\"], dayfirst=True)"
      ],
      "execution_count": null,
      "outputs": []
    },
    {
      "cell_type": "code",
      "metadata": {
        "colab": {
          "base_uri": "https://localhost:8080/"
        },
        "id": "2cvkJYL_-L9x",
        "outputId": "70f714cb-4a33-4717-9412-efafbf73acbd"
      },
      "source": [
        "payments.dtypes"
      ],
      "execution_count": null,
      "outputs": [
        {
          "output_type": "execute_result",
          "data": {
            "text/plain": [
              "birth      datetime64[ns]\n",
              "start      datetime64[ns]\n",
              "jan_mar             int64\n",
              "apr_jun             int64\n",
              "jul_sep             int64\n",
              "oct_dec             int64\n",
              "dtype: object"
            ]
          },
          "metadata": {
            "tags": []
          },
          "execution_count": 130
        }
      ]
    },
    {
      "cell_type": "code",
      "metadata": {
        "colab": {
          "base_uri": "https://localhost:8080/"
        },
        "id": "J4SQNxVkAWex",
        "outputId": "358ed1d7-ecaa-4e5c-e222-735c67fd12f5"
      },
      "source": [
        "payments.iloc[2]"
      ],
      "execution_count": null,
      "outputs": [
        {
          "output_type": "execute_result",
          "data": {
            "text/plain": [
              "birth      1963-09-06 00:00:00\n",
              "start      2000-12-29 00:00:00\n",
              "jan_mar                   3060\n",
              "apr_jun                   2370\n",
              "jul_sep                   1825\n",
              "oct_dec                   1670\n",
              "Name: Гуреев, dtype: object"
            ]
          },
          "metadata": {
            "tags": []
          },
          "execution_count": 131
        }
      ]
    },
    {
      "cell_type": "code",
      "metadata": {
        "id": "U3iA9iBfsaWZ"
      },
      "source": [
        "payments_dollars = payments.drop([\"birth\", \"start\"], axis=1)"
      ],
      "execution_count": null,
      "outputs": []
    },
    {
      "cell_type": "code",
      "metadata": {
        "colab": {
          "base_uri": "https://localhost:8080/",
          "height": 348
        },
        "id": "T3TYjJ8htou1",
        "outputId": "3e2bdb71-c295-402c-9e8d-66a9f5bb95ce"
      },
      "source": [
        "payments_dollars"
      ],
      "execution_count": null,
      "outputs": [
        {
          "output_type": "execute_result",
          "data": {
            "text/html": [
              "<div>\n",
              "<style scoped>\n",
              "    .dataframe tbody tr th:only-of-type {\n",
              "        vertical-align: middle;\n",
              "    }\n",
              "\n",
              "    .dataframe tbody tr th {\n",
              "        vertical-align: top;\n",
              "    }\n",
              "\n",
              "    .dataframe thead th {\n",
              "        text-align: right;\n",
              "    }\n",
              "</style>\n",
              "<table border=\"1\" class=\"dataframe\">\n",
              "  <thead>\n",
              "    <tr style=\"text-align: right;\">\n",
              "      <th></th>\n",
              "      <th>jan_mar</th>\n",
              "      <th>apr_jun</th>\n",
              "      <th>jul_sep</th>\n",
              "      <th>oct_dec</th>\n",
              "    </tr>\n",
              "  </thead>\n",
              "  <tbody>\n",
              "    <tr>\n",
              "      <th>Анисимов</th>\n",
              "      <td>2115</td>\n",
              "      <td>2300</td>\n",
              "      <td>3150</td>\n",
              "      <td>3625</td>\n",
              "    </tr>\n",
              "    <tr>\n",
              "      <th>Богословский</th>\n",
              "      <td>2575</td>\n",
              "      <td>2365</td>\n",
              "      <td>2480</td>\n",
              "      <td>1825</td>\n",
              "    </tr>\n",
              "    <tr>\n",
              "      <th>Гуреев</th>\n",
              "      <td>3060</td>\n",
              "      <td>2370</td>\n",
              "      <td>1825</td>\n",
              "      <td>1670</td>\n",
              "    </tr>\n",
              "    <tr>\n",
              "      <th>Кузьмин</th>\n",
              "      <td>2010</td>\n",
              "      <td>1945</td>\n",
              "      <td>2385</td>\n",
              "      <td>2010</td>\n",
              "    </tr>\n",
              "    <tr>\n",
              "      <th>Лобов</th>\n",
              "      <td>3010</td>\n",
              "      <td>2590</td>\n",
              "      <td>2425</td>\n",
              "      <td>1360</td>\n",
              "    </tr>\n",
              "    <tr>\n",
              "      <th>Михайлюк</th>\n",
              "      <td>3185</td>\n",
              "      <td>1290</td>\n",
              "      <td>2670</td>\n",
              "      <td>3120</td>\n",
              "    </tr>\n",
              "    <tr>\n",
              "      <th>Прошкин</th>\n",
              "      <td>2940</td>\n",
              "      <td>2745</td>\n",
              "      <td>3090</td>\n",
              "      <td>2850</td>\n",
              "    </tr>\n",
              "    <tr>\n",
              "      <th>Русаков</th>\n",
              "      <td>1215</td>\n",
              "      <td>2140</td>\n",
              "      <td>2375</td>\n",
              "      <td>1490</td>\n",
              "    </tr>\n",
              "    <tr>\n",
              "      <th>Хаматов</th>\n",
              "      <td>1945</td>\n",
              "      <td>2655</td>\n",
              "      <td>3790</td>\n",
              "      <td>1875</td>\n",
              "    </tr>\n",
              "    <tr>\n",
              "      <th>Яковлев</th>\n",
              "      <td>2170</td>\n",
              "      <td>2940</td>\n",
              "      <td>3710</td>\n",
              "      <td>2075</td>\n",
              "    </tr>\n",
              "  </tbody>\n",
              "</table>\n",
              "</div>"
            ],
            "text/plain": [
              "              jan_mar  apr_jun  jul_sep  oct_dec\n",
              "Анисимов         2115     2300     3150     3625\n",
              "Богословский     2575     2365     2480     1825\n",
              "Гуреев           3060     2370     1825     1670\n",
              "Кузьмин          2010     1945     2385     2010\n",
              "Лобов            3010     2590     2425     1360\n",
              "Михайлюк         3185     1290     2670     3120\n",
              "Прошкин          2940     2745     3090     2850\n",
              "Русаков          1215     2140     2375     1490\n",
              "Хаматов          1945     2655     3790     1875\n",
              "Яковлев          2170     2940     3710     2075"
            ]
          },
          "metadata": {
            "tags": []
          },
          "execution_count": 133
        }
      ]
    },
    {
      "cell_type": "code",
      "metadata": {
        "id": "23tZotgwsuZ_"
      },
      "source": [
        "gureev = payments_dollars.loc[\"Гуреев\", [\"jul_sep\", \"oct_dec\"]]"
      ],
      "execution_count": null,
      "outputs": []
    },
    {
      "cell_type": "code",
      "metadata": {
        "colab": {
          "base_uri": "https://localhost:8080/"
        },
        "id": "JUM8DS47tuf3",
        "outputId": "e7baa8cd-6351-42d7-8565-3dca67ed5f92"
      },
      "source": [
        "gureev"
      ],
      "execution_count": null,
      "outputs": [
        {
          "output_type": "execute_result",
          "data": {
            "text/plain": [
              "jul_sep    1825\n",
              "oct_dec    1670\n",
              "Name: Гуреев, dtype: int64"
            ]
          },
          "metadata": {
            "tags": []
          },
          "execution_count": 135
        }
      ]
    },
    {
      "cell_type": "code",
      "metadata": {
        "id": "ShoEsNesDAp2"
      },
      "source": [
        "from matplotlib.ticker import NullLocator"
      ],
      "execution_count": null,
      "outputs": []
    },
    {
      "cell_type": "markdown",
      "metadata": {
        "id": "xXht10uki6Tm"
      },
      "source": [
        "Ответ на 1-е задание:"
      ]
    },
    {
      "cell_type": "code",
      "metadata": {
        "id": "Fi7H3zaXKLs3",
        "colab": {
          "base_uri": "https://localhost:8080/",
          "height": 332
        },
        "outputId": "e8cc4dac-8e4c-42c4-8529-3aee511afb7b"
      },
      "source": [
        "fig = plt.figure(figsize=(4, 4), facecolor=(.18, .31, .31))\n",
        "ax = fig.add_subplot()\n",
        "fig.suptitle(\"Гуреев, 2008 г\", color='w')\n",
        "ax.set_xlabel(\"1) Комиссионные снизились\\nна 8,5% (155 $) за октябрь-декабрь\\nв сравнении с июль-сентябрь.\", color='w')\n",
        "# ax.set_ylabel(\"Доллары\")\n",
        "plt.figtext(0.68, 0.45, \"- 8,5%\")\n",
        "x = np.array([\"jan_mar\", \"apr_jun\", \"jul_sep\", \"oct_dec\"])\n",
        "y = np.array([3060, 2370, 1825, 1670])\n",
        "x1 = np.array([\"jul_sep\", \"oct_dec\"])\n",
        "y1 = np.array([1825, 1670])\n",
        "ax.set_facecolor('#eafff5')\n",
        "ax.plot(x, y, \"-ob\", markerfacecolor=\"w\")\n",
        "ax.fill_between(x1, y1, alpha=0.5)\n",
        "ax.minorticks_on()\n",
        "ax.grid(which=\"major\", lw = 2)\n",
        "ax.grid(which=\"minor\")\n",
        "ax.xaxis.set_minor_locator(NullLocator())"
      ],
      "execution_count": null,
      "outputs": [
        {
          "output_type": "display_data",
          "data": {
            "image/png": "[encoded data removed]",
            "text/plain": [
              "<Figure size 288x288 with 1 Axes>"
            ]
          },
          "metadata": {
            "tags": []
          }
        }
      ]
    },
    {
      "cell_type": "code",
      "metadata": {
        "colab": {
          "base_uri": "https://localhost:8080/"
        },
        "id": "LbxN_EzSizO5",
        "outputId": "56c3efdf-3038-43e5-ebc1-acde6508bd94"
      },
      "source": [
        "list(payments_dollars.index)"
      ],
      "execution_count": null,
      "outputs": [
        {
          "output_type": "execute_result",
          "data": {
            "text/plain": [
              "['Анисимов',\n",
              " 'Богословский',\n",
              " 'Гуреев',\n",
              " 'Кузьмин',\n",
              " 'Лобов',\n",
              " 'Михайлюк',\n",
              " 'Прошкин',\n",
              " 'Русаков',\n",
              " 'Хаматов',\n",
              " 'Яковлев']"
            ]
          },
          "metadata": {
            "tags": []
          },
          "execution_count": 138
        }
      ]
    },
    {
      "cell_type": "code",
      "metadata": {
        "colab": {
          "base_uri": "https://localhost:8080/",
          "height": 332
        },
        "id": "-Tae1Ti_1Lk7",
        "outputId": "8d720554-04e8-46f6-9bac-62d739790868"
      },
      "source": [
        "fig3 = plt.figure(figsize=(4, 4), facecolor=(.18, .31, .31))\n",
        "ax3 = fig3.add_subplot()\n",
        "fig3.suptitle(\"Кузьмин, 2008 г\", color='w')\n",
        "ax3.set_xlabel(\"4) За первое полугодие 2008 г.\\nкомиссионные Кузьмина были меньше,\\nчем за второе, на 11.1% (440 $).\", color='w')\n",
        "# ax3.set_ylabel(\"Доллары\")\n",
        "#plt.figtext(0.68, 0.45, \"- 8,5%\")\n",
        "x = np.array([\"jan_jun\", \"jul_dec\"])\n",
        "y = np.array([3955, 4395])\n",
        "ax3.set_facecolor('#eafff5')\n",
        "ax3.plot(x, y, \"-ob\", markerfacecolor=\"w\")\n",
        "ax3.fill_between(x, y, alpha=0.5)\n",
        "ax3.minorticks_on()\n",
        "ax3.grid(which=\"major\", lw = 2)\n",
        "ax3.grid(which=\"minor\")\n",
        "ax3.xaxis.set_minor_locator(NullLocator())"
      ],
      "execution_count": null,
      "outputs": [
        {
          "output_type": "display_data",
          "data": {
            "image/png": "[encoded data removed]",
            "text/plain": [
              "<Figure size 288x288 with 1 Axes>"
            ]
          },
          "metadata": {
            "tags": []
          }
        }
      ]
    },
    {
      "cell_type": "code",
      "metadata": {
        "id": "CTl0WaQboA4W"
      },
      "source": [
        "from matplotlib.ticker import LinearLocator"
      ],
      "execution_count": null,
      "outputs": []
    },
    {
      "cell_type": "code",
      "metadata": {
        "colab": {
          "base_uri": "https://localhost:8080/",
          "height": 359
        },
        "id": "7j7KP6ddtb-N",
        "outputId": "ea759a77-3183-4672-e628-c55641ca42f3"
      },
      "source": [
        "fig0 = plt.figure(figsize=(12, 4), facecolor=(.18, .31, .31))\n",
        "ax0 = fig0.add_subplot()\n",
        "fig0.suptitle(\"2008 г\", color='w')\n",
        "ax0.set_xlim(-0.3, 9.7)\n",
        "ax0.xaxis.set_major_locator(LinearLocator())\n",
        "# ax0.set_xticklabels(list(payments_dollars.index))\n",
        "ax0.set_xticklabels([])\n",
        "ax0.set_facecolor('#eafff5')\n",
        "x = np.arange(10)\n",
        "y1 =list(payments_dollars[\"jan_mar\"])\n",
        "y2 =list(payments_dollars[\"apr_jun\"])\n",
        "y3 =list(payments_dollars[\"jul_sep\"])\n",
        "y4 =list(payments_dollars[\"oct_dec\"])\n",
        "w = 0.2\n",
        "ax0.bar(x - w/2, y1, width=w, color=\"b\")\n",
        "ax0.bar(x + w/2, y2, width=w, color=\"g\", alpha=0.7)\n",
        "ax0.bar(x + w*1.5, y3, width=w, color=\"y\")\n",
        "ax0.bar(x + w*2.5, y4, width=w)\n",
        "ax0.minorticks_on()\n",
        "ax0.grid(which=\"major\", lw = 2, alpha=0.7)\n",
        "ax0.grid(which=\"minor\", alpha=0.5)\n",
        "ax0.xaxis.set_minor_locator(NullLocator())\n",
        "plt.figtext(0.13, 0.07, \" Анисимов   Богословский  Гуреев         Кузьмин         \\\n",
        "Лобов         Михайлюк    Прошкин      Русаков         Хаматов       Яковлев\")\n",
        "# ax0.legend([\"jan_mar\"], )\n",
        "ax0.legend([\"jan_mar\", \"apr_jun\", \"jul_sep\", \"oct_dec\"], bbox_to_anchor=(0.25, 0.65))\n",
        "ax0.set_xlabel(\"\\n2) Наименьшие квартальные комиссионные за 2008 г.: Русаков (1.215 $), период: январь-март.\\\n",
        "\\n5) Наибольшие квартальные комиссионные за 2008 г.: Хаматов (3 790 $), период: июль-сентябрь.\", color='w')"
      ],
      "execution_count": null,
      "outputs": [
        {
          "output_type": "execute_result",
          "data": {
            "text/plain": [
              "Text(0.5, 0, '\\n2) Наименьшие квартальные комиссионные за 2008 г.: Русаков (1.215 $), период: январь-март.\\n5) Наибольшие квартальные комиссионные за 2008 г.: Хаматов (3 790 $), период: июль-сентябрь.')"
            ]
          },
          "metadata": {
            "tags": []
          },
          "execution_count": 151
        },
        {
          "output_type": "display_data",
          "data": {
            "image/png": "[encoded data removed]",
            "text/plain": [
              "<Figure size 864x288 with 1 Axes>"
            ]
          },
          "metadata": {
            "tags": []
          }
        }
      ]
    },
    {
      "cell_type": "code",
      "metadata": {
        "id": "1n_nNiBGirEx"
      },
      "source": [
        "age_dates = payments.drop([\"jan_mar\", \"apr_jun\", \"jul_sep\", \"oct_dec\"], axis=1)"
      ],
      "execution_count": null,
      "outputs": []
    },
    {
      "cell_type": "code",
      "metadata": {
        "id": "Pe6N7RRJiqrZ",
        "colab": {
          "base_uri": "https://localhost:8080/",
          "height": 348
        },
        "outputId": "3b7f4dca-dd89-458c-c7d7-e70b3a58a9d8"
      },
      "source": [
        "age_dates"
      ],
      "execution_count": null,
      "outputs": [
        {
          "output_type": "execute_result",
          "data": {
            "text/html": [
              "<div>\n",
              "<style scoped>\n",
              "    .dataframe tbody tr th:only-of-type {\n",
              "        vertical-align: middle;\n",
              "    }\n",
              "\n",
              "    .dataframe tbody tr th {\n",
              "        vertical-align: top;\n",
              "    }\n",
              "\n",
              "    .dataframe thead th {\n",
              "        text-align: right;\n",
              "    }\n",
              "</style>\n",
              "<table border=\"1\" class=\"dataframe\">\n",
              "  <thead>\n",
              "    <tr style=\"text-align: right;\">\n",
              "      <th></th>\n",
              "      <th>birth</th>\n",
              "      <th>start</th>\n",
              "    </tr>\n",
              "  </thead>\n",
              "  <tbody>\n",
              "    <tr>\n",
              "      <th>Анисимов</th>\n",
              "      <td>1972-09-23</td>\n",
              "      <td>2004-03-14</td>\n",
              "    </tr>\n",
              "    <tr>\n",
              "      <th>Богословский</th>\n",
              "      <td>1969-11-15</td>\n",
              "      <td>2003-08-05</td>\n",
              "    </tr>\n",
              "    <tr>\n",
              "      <th>Гуреев</th>\n",
              "      <td>1963-09-06</td>\n",
              "      <td>2000-12-29</td>\n",
              "    </tr>\n",
              "    <tr>\n",
              "      <th>Кузьмин</th>\n",
              "      <td>1964-04-05</td>\n",
              "      <td>2003-12-02</td>\n",
              "    </tr>\n",
              "    <tr>\n",
              "      <th>Лобов</th>\n",
              "      <td>1967-05-02</td>\n",
              "      <td>2002-11-24</td>\n",
              "    </tr>\n",
              "    <tr>\n",
              "      <th>Михайлюк</th>\n",
              "      <td>1968-06-25</td>\n",
              "      <td>2003-07-06</td>\n",
              "    </tr>\n",
              "    <tr>\n",
              "      <th>Прошкин</th>\n",
              "      <td>1971-08-11</td>\n",
              "      <td>1998-05-10</td>\n",
              "    </tr>\n",
              "    <tr>\n",
              "      <th>Русаков</th>\n",
              "      <td>1976-02-04</td>\n",
              "      <td>2001-04-23</td>\n",
              "    </tr>\n",
              "    <tr>\n",
              "      <th>Хаматов</th>\n",
              "      <td>1974-12-28</td>\n",
              "      <td>1999-01-03</td>\n",
              "    </tr>\n",
              "    <tr>\n",
              "      <th>Яковлев</th>\n",
              "      <td>1970-05-29</td>\n",
              "      <td>2002-09-16</td>\n",
              "    </tr>\n",
              "  </tbody>\n",
              "</table>\n",
              "</div>"
            ],
            "text/plain": [
              "                  birth      start\n",
              "Анисимов     1972-09-23 2004-03-14\n",
              "Богословский 1969-11-15 2003-08-05\n",
              "Гуреев       1963-09-06 2000-12-29\n",
              "Кузьмин      1964-04-05 2003-12-02\n",
              "Лобов        1967-05-02 2002-11-24\n",
              "Михайлюк     1968-06-25 2003-07-06\n",
              "Прошкин      1971-08-11 1998-05-10\n",
              "Русаков      1976-02-04 2001-04-23\n",
              "Хаматов      1974-12-28 1999-01-03\n",
              "Яковлев      1970-05-29 2002-09-16"
            ]
          },
          "metadata": {
            "tags": []
          },
          "execution_count": 143
        }
      ]
    },
    {
      "cell_type": "code",
      "metadata": {
        "id": "fkWqqYFatfKA"
      },
      "source": [
        "age_dates[\"age_from\"] = age_dates[\"start\"] - age_dates[\"birth\"]"
      ],
      "execution_count": null,
      "outputs": []
    },
    {
      "cell_type": "code",
      "metadata": {
        "id": "KY-cE1fR4dcy",
        "colab": {
          "base_uri": "https://localhost:8080/",
          "height": 348
        },
        "outputId": "49acb04f-d79e-404f-f1ee-664ec1eb4b83"
      },
      "source": [
        "age_dates"
      ],
      "execution_count": null,
      "outputs": [
        {
          "output_type": "execute_result",
          "data": {
            "text/html": [
              "<div>\n",
              "<style scoped>\n",
              "    .dataframe tbody tr th:only-of-type {\n",
              "        vertical-align: middle;\n",
              "    }\n",
              "\n",
              "    .dataframe tbody tr th {\n",
              "        vertical-align: top;\n",
              "    }\n",
              "\n",
              "    .dataframe thead th {\n",
              "        text-align: right;\n",
              "    }\n",
              "</style>\n",
              "<table border=\"1\" class=\"dataframe\">\n",
              "  <thead>\n",
              "    <tr style=\"text-align: right;\">\n",
              "      <th></th>\n",
              "      <th>birth</th>\n",
              "      <th>start</th>\n",
              "      <th>age_from</th>\n",
              "    </tr>\n",
              "  </thead>\n",
              "  <tbody>\n",
              "    <tr>\n",
              "      <th>Анисимов</th>\n",
              "      <td>1972-09-23</td>\n",
              "      <td>2004-03-14</td>\n",
              "      <td>11495 days</td>\n",
              "    </tr>\n",
              "    <tr>\n",
              "      <th>Богословский</th>\n",
              "      <td>1969-11-15</td>\n",
              "      <td>2003-08-05</td>\n",
              "      <td>12316 days</td>\n",
              "    </tr>\n",
              "    <tr>\n",
              "      <th>Гуреев</th>\n",
              "      <td>1963-09-06</td>\n",
              "      <td>2000-12-29</td>\n",
              "      <td>13629 days</td>\n",
              "    </tr>\n",
              "    <tr>\n",
              "      <th>Кузьмин</th>\n",
              "      <td>1964-04-05</td>\n",
              "      <td>2003-12-02</td>\n",
              "      <td>14485 days</td>\n",
              "    </tr>\n",
              "    <tr>\n",
              "      <th>Лобов</th>\n",
              "      <td>1967-05-02</td>\n",
              "      <td>2002-11-24</td>\n",
              "      <td>12990 days</td>\n",
              "    </tr>\n",
              "    <tr>\n",
              "      <th>Михайлюк</th>\n",
              "      <td>1968-06-25</td>\n",
              "      <td>2003-07-06</td>\n",
              "      <td>12794 days</td>\n",
              "    </tr>\n",
              "    <tr>\n",
              "      <th>Прошкин</th>\n",
              "      <td>1971-08-11</td>\n",
              "      <td>1998-05-10</td>\n",
              "      <td>9769 days</td>\n",
              "    </tr>\n",
              "    <tr>\n",
              "      <th>Русаков</th>\n",
              "      <td>1976-02-04</td>\n",
              "      <td>2001-04-23</td>\n",
              "      <td>9210 days</td>\n",
              "    </tr>\n",
              "    <tr>\n",
              "      <th>Хаматов</th>\n",
              "      <td>1974-12-28</td>\n",
              "      <td>1999-01-03</td>\n",
              "      <td>8772 days</td>\n",
              "    </tr>\n",
              "    <tr>\n",
              "      <th>Яковлев</th>\n",
              "      <td>1970-05-29</td>\n",
              "      <td>2002-09-16</td>\n",
              "      <td>11798 days</td>\n",
              "    </tr>\n",
              "  </tbody>\n",
              "</table>\n",
              "</div>"
            ],
            "text/plain": [
              "                  birth      start   age_from\n",
              "Анисимов     1972-09-23 2004-03-14 11495 days\n",
              "Богословский 1969-11-15 2003-08-05 12316 days\n",
              "Гуреев       1963-09-06 2000-12-29 13629 days\n",
              "Кузьмин      1964-04-05 2003-12-02 14485 days\n",
              "Лобов        1967-05-02 2002-11-24 12990 days\n",
              "Михайлюк     1968-06-25 2003-07-06 12794 days\n",
              "Прошкин      1971-08-11 1998-05-10  9769 days\n",
              "Русаков      1976-02-04 2001-04-23  9210 days\n",
              "Хаматов      1974-12-28 1999-01-03  8772 days\n",
              "Яковлев      1970-05-29 2002-09-16 11798 days"
            ]
          },
          "metadata": {
            "tags": []
          },
          "execution_count": 145
        }
      ]
    },
    {
      "cell_type": "code",
      "metadata": {
        "id": "wSp5tuoUq1Fz"
      },
      "source": [
        "# totalDays = 8772   \n",
        "\n",
        "# years = totalDays//365.25\n",
        "# months = (totalDays%365)//30\n",
        "# days = (totalDays%365)%30\n",
        "\n",
        "# print(years,months,days)"
      ],
      "execution_count": null,
      "outputs": []
    },
    {
      "cell_type": "code",
      "metadata": {
        "colab": {
          "base_uri": "https://localhost:8080/",
          "height": 348
        },
        "id": "ULucyaMoq2jN",
        "outputId": "6631240d-2e29-4726-9c58-5e70edb0cf28"
      },
      "source": [
        "start_age = age_dates.drop([\"birth\", \"start\"], axis=1)\n",
        "start_age"
      ],
      "execution_count": null,
      "outputs": [
        {
          "output_type": "execute_result",
          "data": {
            "text/html": [
              "<div>\n",
              "<style scoped>\n",
              "    .dataframe tbody tr th:only-of-type {\n",
              "        vertical-align: middle;\n",
              "    }\n",
              "\n",
              "    .dataframe tbody tr th {\n",
              "        vertical-align: top;\n",
              "    }\n",
              "\n",
              "    .dataframe thead th {\n",
              "        text-align: right;\n",
              "    }\n",
              "</style>\n",
              "<table border=\"1\" class=\"dataframe\">\n",
              "  <thead>\n",
              "    <tr style=\"text-align: right;\">\n",
              "      <th></th>\n",
              "      <th>age_from</th>\n",
              "    </tr>\n",
              "  </thead>\n",
              "  <tbody>\n",
              "    <tr>\n",
              "      <th>Анисимов</th>\n",
              "      <td>11495 days</td>\n",
              "    </tr>\n",
              "    <tr>\n",
              "      <th>Богословский</th>\n",
              "      <td>12316 days</td>\n",
              "    </tr>\n",
              "    <tr>\n",
              "      <th>Гуреев</th>\n",
              "      <td>13629 days</td>\n",
              "    </tr>\n",
              "    <tr>\n",
              "      <th>Кузьмин</th>\n",
              "      <td>14485 days</td>\n",
              "    </tr>\n",
              "    <tr>\n",
              "      <th>Лобов</th>\n",
              "      <td>12990 days</td>\n",
              "    </tr>\n",
              "    <tr>\n",
              "      <th>Михайлюк</th>\n",
              "      <td>12794 days</td>\n",
              "    </tr>\n",
              "    <tr>\n",
              "      <th>Прошкин</th>\n",
              "      <td>9769 days</td>\n",
              "    </tr>\n",
              "    <tr>\n",
              "      <th>Русаков</th>\n",
              "      <td>9210 days</td>\n",
              "    </tr>\n",
              "    <tr>\n",
              "      <th>Хаматов</th>\n",
              "      <td>8772 days</td>\n",
              "    </tr>\n",
              "    <tr>\n",
              "      <th>Яковлев</th>\n",
              "      <td>11798 days</td>\n",
              "    </tr>\n",
              "  </tbody>\n",
              "</table>\n",
              "</div>"
            ],
            "text/plain": [
              "               age_from\n",
              "Анисимов     11495 days\n",
              "Богословский 12316 days\n",
              "Гуреев       13629 days\n",
              "Кузьмин      14485 days\n",
              "Лобов        12990 days\n",
              "Михайлюк     12794 days\n",
              "Прошкин       9769 days\n",
              "Русаков       9210 days\n",
              "Хаматов       8772 days\n",
              "Яковлев      11798 days"
            ]
          },
          "metadata": {
            "tags": []
          },
          "execution_count": 147
        }
      ]
    },
    {
      "cell_type": "code",
      "metadata": {
        "colab": {
          "base_uri": "https://localhost:8080/"
        },
        "id": "RaVEjYaYvVdO",
        "outputId": "f2668bbc-f146-4245-f1bc-bc8d5cd52ce7"
      },
      "source": [
        "list(start_age[\"age_from\"].dt.days)"
      ],
      "execution_count": null,
      "outputs": [
        {
          "output_type": "execute_result",
          "data": {
            "text/plain": [
              "[11495, 12316, 13629, 14485, 12990, 12794, 9769, 9210, 8772, 11798]"
            ]
          },
          "metadata": {
            "tags": []
          },
          "execution_count": 148
        }
      ]
    },
    {
      "cell_type": "code",
      "metadata": {
        "colab": {
          "base_uri": "https://localhost:8080/",
          "height": 359
        },
        "id": "cV3wqkaes_g0",
        "outputId": "4e284adc-81ab-4780-f157-b126dba2fc64"
      },
      "source": [
        "fig2 = plt.figure(figsize=(12, 4), facecolor=(.18, .31, .31))\n",
        "ax2 = fig2.add_subplot()\n",
        "fig2.suptitle(\"2008 г\", color='w')\n",
        "ax2.set_xlim(-0.3, 9.7)\n",
        "ax2.xaxis.set_major_locator(LinearLocator())\n",
        "# ax2.set_xticklabels(list(payments_dollars.index))\n",
        "ax2.set_xticklabels([])\n",
        "ax2.set_facecolor('#eafff5')\n",
        "x = np.arange(10)\n",
        "y1 = list(start_age[\"age_from\"].dt.days)\n",
        "\n",
        "w = 0.4\n",
        "ax2.bar(x + w/2, y1, width=w, color=\"g\")\n",
        "\n",
        "ax2.minorticks_on()\n",
        "ax2.grid(which=\"major\", lw = 2, alpha=0.7)\n",
        "ax2.grid(which=\"minor\", alpha=0.5)\n",
        "ax2.xaxis.set_minor_locator(NullLocator())\n",
        "plt.figtext(0.13, 0.07, \" Анисимов   Богословский  Гуреев         Кузьмин         \\\n",
        "Лобов         Михайлюк    Прошкин      Русаков         Хаматов       Яковлев\")\n",
        "ax2.set_xlabel(\"\\n3) Наибольший возраст, при приходе в компанию, имел Кузьмин - 39 полных лет.\\\n",
        "\\n6) Наименьший возраст, при приходе в компанию, имел Хаматов - 24 полных года.\", color='w')"
      ],
      "execution_count": null,
      "outputs": [
        {
          "output_type": "execute_result",
          "data": {
            "text/plain": [
              "Text(0.5, 0, '\\n3) Наибольший возраст, при приходе в компанию, имел Кузьмин - 39 полных лет.\\n6) Наименьший возраст, при приходе в компанию, имел Хаматов - 24 полных года.')"
            ]
          },
          "metadata": {
            "tags": []
          },
          "execution_count": 152
        },
        {
          "output_type": "display_data",
          "data": {
            "image/png": "[encoded data removed]",
            "text/plain": [
              "<Figure size 864x288 with 1 Axes>"
            ]
          },
          "metadata": {
            "tags": []
          }
        }
      ]
    }
  ]
}
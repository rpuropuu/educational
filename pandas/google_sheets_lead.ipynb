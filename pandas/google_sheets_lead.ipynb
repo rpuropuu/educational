{
  "nbformat": 4,
  "nbformat_minor": 0,
  "metadata": {
    "colab": {
      "name": "google_sheets_lead",
      "provenance": []
    },
    "kernelspec": {
      "name": "python3",
      "display_name": "Python 3"
    },
    "language_info": {
      "name": "python"
    }
  },
  "cells": [
    {
      "cell_type": "markdown",
      "metadata": {
        "id": "xFtj9rC_nih7"
      },
      "source": [
        "Может понадобиться установка:"
      ]
    },
    {
      "cell_type": "code",
      "metadata": {
        "id": "MglS8zXgDGfn"
      },
      "source": [
        "# !pip install --upgrade google-api-python-client google-auth-httplib2 google-auth-oauthlib"
      ],
      "execution_count": 92,
      "outputs": []
    },
    {
      "cell_type": "markdown",
      "metadata": {
        "id": "QCsvrAifnmzJ"
      },
      "source": [
        "Импортируем библиотеки:"
      ]
    },
    {
      "cell_type": "code",
      "metadata": {
        "id": "dryDPISyBl4x"
      },
      "source": [
        "import os.path\n",
        "from googleapiclient.discovery import build\n",
        "from google.oauth2 import service_account\n",
        "import pandas as pd\n",
        "import numpy as np\n",
        "# from google_auth_oauthlib.flow import InstalledAppFlow\n",
        "# from google.auth.transport.requests import Request\n",
        "# from google.oauth2.credentials import Credentials"
      ],
      "execution_count": 93,
      "outputs": []
    },
    {
      "cell_type": "markdown",
      "metadata": {
        "id": "oun69iJqn4bO"
      },
      "source": [
        "Забираем данные, используя Google Sheeets API v4:"
      ]
    },
    {
      "cell_type": "code",
      "metadata": {
        "id": "upwDEkolCEyT"
      },
      "source": [
        "SCOPES = ['https://www.googleapis.com/auth/spreadsheets.readonly']\n",
        "SERVICE_ACCOUNT_FILE = r\"/content/drive/MyDrive/some_data/some-data-315613-ac85ae5ff65d.json\"\n",
        "SAMPLE_SPREADSHEET_ID = '1Ycg7zTxds9DZnDvTrFcyNNKuTUxg6Yy6WF0a8Wc02WQ'"
      ],
      "execution_count": 94,
      "outputs": []
    },
    {
      "cell_type": "code",
      "metadata": {
        "id": "4xdfyS82PQA7"
      },
      "source": [
        "credentials = service_account.Credentials.from_service_account_file(\n",
        "    SERVICE_ACCOUNT_FILE, scopes=SCOPES)"
      ],
      "execution_count": 95,
      "outputs": []
    },
    {
      "cell_type": "code",
      "metadata": {
        "id": "KjUwiPeCPqv0"
      },
      "source": [
        "service = build(\"sheets\", \"v4\", credentials=credentials)"
      ],
      "execution_count": 96,
      "outputs": []
    },
    {
      "cell_type": "markdown",
      "metadata": {
        "id": "DLQbHoLSnZm1"
      },
      "source": [
        "Выбираем страницы для дальнейшей обработки раздельно:"
      ]
    },
    {
      "cell_type": "code",
      "metadata": {
        "id": "TdAxYYZSPtMv"
      },
      "source": [
        "result_transactions = service.spreadsheets().values().get(\n",
        "    spreadsheetId=SAMPLE_SPREADSHEET_ID,\n",
        "    range='transactions'\n",
        ").execute()\n",
        "\n",
        "result_clients = service.spreadsheets().values().get(\n",
        "    spreadsheetId=SAMPLE_SPREADSHEET_ID,\n",
        "    range='clients'\n",
        ").execute()\n",
        "\n",
        "result_managers = service.spreadsheets().values().get(\n",
        "    spreadsheetId=SAMPLE_SPREADSHEET_ID,\n",
        "    range='managers'\n",
        ").execute()\n",
        "\n",
        "result_leads = service.spreadsheets().values().get(\n",
        "    spreadsheetId=SAMPLE_SPREADSHEET_ID,\n",
        "    range='leads'\n",
        ").execute()"
      ],
      "execution_count": 97,
      "outputs": []
    },
    {
      "cell_type": "markdown",
      "metadata": {
        "id": "qDYJJGGpo7_Z"
      },
      "source": [
        "Посомтрим данные на вид:"
      ]
    },
    {
      "cell_type": "code",
      "metadata": {
        "colab": {
          "base_uri": "https://localhost:8080/"
        },
        "id": "lH6VQGcZSwA9",
        "outputId": "78d12dfd-1436-425e-d3ad-833ed7e091ff"
      },
      "source": [
        "print(result_managers.keys())"
      ],
      "execution_count": 98,
      "outputs": [
        {
          "output_type": "stream",
          "text": [
            "dict_keys(['range', 'majorDimension', 'values'])\n"
          ],
          "name": "stdout"
        }
      ]
    },
    {
      "cell_type": "code",
      "metadata": {
        "colab": {
          "base_uri": "https://localhost:8080/"
        },
        "id": "jwYTJ2RjSkug",
        "outputId": "5fb6f1cb-560e-4690-acf9-9a7a3266ce61"
      },
      "source": [
        "print(result_managers[\"majorDimension\"])"
      ],
      "execution_count": 99,
      "outputs": [
        {
          "output_type": "stream",
          "text": [
            "ROWS\n"
          ],
          "name": "stdout"
        }
      ]
    },
    {
      "cell_type": "code",
      "metadata": {
        "colab": {
          "base_uri": "https://localhost:8080/"
        },
        "id": "86xGr_LYPvAe",
        "outputId": "995eaa86-d9c7-48cb-afa7-cabb830ca92d"
      },
      "source": [
        "print(result_managers[\"values\"])"
      ],
      "execution_count": 100,
      "outputs": [
        {
          "output_type": "stream",
          "text": [
            "[['manager_id', 'd_manager', 'd_club'], ['1e9c5562-0cfc-11ea-abe1-c412f533dba1', 'manager #8', 'club #2'], ['43756fa4-57a0-11e9-ab9a-c412f533dba1', 'manager #11', 'club #4'], ['543888c4-fbb3-11e9-abdc-c412f533dba1', 'manager #12', 'club #3'], ['5dd88f32-6501-11ea-abf3-c412f533dba1', 'manager #10', 'club #2'], ['9a87c608-52dc-11ea-abeb-c412f533dba1', 'manager #9', 'club #3'], ['abed5496-ca88-11e9-abb8-c412f533dba1', 'manager #5', 'club #4'], ['ad52c7a8-a752-11e7-8115-c412f533dba1', 'manager #7', 'club #1'], ['b55a233c-5df6-11ea-abf2-c412f533dba1', 'manager #2', 'club #4'], ['b832aac3-fcda-11ea-ac18-c412f533dba1', 'manager #13', 'club #3'], ['d12fe765-b444-11e9-abb3-c412f533dba1', 'manager #1', 'club #1'], ['db06b8bc-bfb2-11e7-8116-c412f533dba1', 'manager #4', 'club #2'], ['e463b03f-2d74-11eb-ac1f-c412f533dba1', 'manager #3', 'club #1'], ['f44596c6-12cd-11eb-ac1c-c412f533dba1', 'manager #6', 'club #2']]\n"
          ],
          "name": "stdout"
        }
      ]
    },
    {
      "cell_type": "markdown",
      "metadata": {
        "id": "I72L-_ZnpDbi"
      },
      "source": [
        "Придаём таблицам рабочий вид и делаем предпросмотр:"
      ]
    },
    {
      "cell_type": "code",
      "metadata": {
        "id": "xtrhlaVFQO7b"
      },
      "source": [
        "df_transactions = pd.DataFrame(result_transactions[\"values\"][1:], columns=result_transactions[\"values\"][0])"
      ],
      "execution_count": 101,
      "outputs": []
    },
    {
      "cell_type": "code",
      "metadata": {
        "id": "0XnnXcdGiNpu"
      },
      "source": [
        "df_transactions['created_at'] = pd.to_datetime(df_transactions['created_at'])"
      ],
      "execution_count": 102,
      "outputs": []
    },
    {
      "cell_type": "markdown",
      "metadata": {
        "id": "KhkPUwQuEaYc"
      },
      "source": [
        "Нужно переименовать столбец киентов, иначе пандас не осилит в конце (обратить внимание, что lead_client_id не относится к таблице df_leads):"
      ]
    },
    {
      "cell_type": "code",
      "metadata": {
        "id": "0tpDl_hGC76N"
      },
      "source": [
        "df_transactions[\"lead_client_id\"] = df_transactions[\"l_client_id\"]"
      ],
      "execution_count": 103,
      "outputs": []
    },
    {
      "cell_type": "code",
      "metadata": {
        "id": "1YH5FNhODOEM"
      },
      "source": [
        "df_transactions = df_transactions.drop([\"l_client_id\"], axis=1)"
      ],
      "execution_count": 104,
      "outputs": []
    },
    {
      "cell_type": "code",
      "metadata": {
        "colab": {
          "base_uri": "https://localhost:8080/",
          "height": 414
        },
        "id": "Tzc9kJGsTt50",
        "outputId": "759d270c-ac3d-494d-f896-e1920e079911"
      },
      "source": [
        "df_transactions"
      ],
      "execution_count": 105,
      "outputs": [
        {
          "output_type": "execute_result",
          "data": {
            "text/html": [
              "<div>\n",
              "<style scoped>\n",
              "    .dataframe tbody tr th:only-of-type {\n",
              "        vertical-align: middle;\n",
              "    }\n",
              "\n",
              "    .dataframe tbody tr th {\n",
              "        vertical-align: top;\n",
              "    }\n",
              "\n",
              "    .dataframe thead th {\n",
              "        text-align: right;\n",
              "    }\n",
              "</style>\n",
              "<table border=\"1\" class=\"dataframe\">\n",
              "  <thead>\n",
              "    <tr style=\"text-align: right;\">\n",
              "      <th></th>\n",
              "      <th>transaction_id</th>\n",
              "      <th>created_at</th>\n",
              "      <th>m_real_amount</th>\n",
              "      <th>lead_client_id</th>\n",
              "    </tr>\n",
              "  </thead>\n",
              "  <tbody>\n",
              "    <tr>\n",
              "      <th>0</th>\n",
              "      <td>2c9f1527-8e7f-4fb1-8000-c747a2ab46c9</td>\n",
              "      <td>2020-09-30 07:15:14</td>\n",
              "      <td>31</td>\n",
              "      <td>8a805e60-6fd6-11e7-80fc-c412f533dba1</td>\n",
              "    </tr>\n",
              "    <tr>\n",
              "      <th>1</th>\n",
              "      <td>2c9f1527-8e7f-4fb1-8000-c747a2ab46c9</td>\n",
              "      <td>2020-09-30 07:15:14</td>\n",
              "      <td>87</td>\n",
              "      <td>8a805e60-6fd6-11e7-80fc-c412f533dba1</td>\n",
              "    </tr>\n",
              "    <tr>\n",
              "      <th>2</th>\n",
              "      <td>ab8cbcf7-3271-49a0-8001-6cf9816f63b8</td>\n",
              "      <td>2020-09-12 13:47:04</td>\n",
              "      <td>49231</td>\n",
              "      <td>dc0d0e52-629a-11ea-abf3-c412f533dba1</td>\n",
              "    </tr>\n",
              "    <tr>\n",
              "      <th>3</th>\n",
              "      <td>ab8cbcf7-3271-49a0-8001-6cf9816f63b8</td>\n",
              "      <td>2020-09-12 13:47:04</td>\n",
              "      <td>17305</td>\n",
              "      <td>dc0d0e52-629a-11ea-abf3-c412f533dba1</td>\n",
              "    </tr>\n",
              "    <tr>\n",
              "      <th>4</th>\n",
              "      <td>52f8ebcc-d82d-4be1-8004-72cfbe0dff24</td>\n",
              "      <td>2020-09-25 06:00:07</td>\n",
              "      <td>9022</td>\n",
              "      <td>e663b6a0-4a1a-11e8-a2c3-c412f533dba1</td>\n",
              "    </tr>\n",
              "    <tr>\n",
              "      <th>...</th>\n",
              "      <td>...</td>\n",
              "      <td>...</td>\n",
              "      <td>...</td>\n",
              "      <td>...</td>\n",
              "    </tr>\n",
              "    <tr>\n",
              "      <th>28995</th>\n",
              "      <td>39119f9c-d15b-46e6-bffa-1361257415cd</td>\n",
              "      <td>2020-07-21 21:02:34</td>\n",
              "      <td>0</td>\n",
              "      <td>b56326a0-d5a2-11e9-abbe-c412f533dba1</td>\n",
              "    </tr>\n",
              "    <tr>\n",
              "      <th>28996</th>\n",
              "      <td>74fa1409-2a93-4a3e-bffb-d2cd0c75f6a5</td>\n",
              "      <td>2020-01-23 03:45:41</td>\n",
              "      <td>0</td>\n",
              "      <td>1a32cb98-d5a2-11e9-abbe-c412f533dba1</td>\n",
              "    </tr>\n",
              "    <tr>\n",
              "      <th>28997</th>\n",
              "      <td>b5959542-894b-4eda-bffc-8ecaaed4f9e5</td>\n",
              "      <td>2020-09-03 06:45:51</td>\n",
              "      <td>0</td>\n",
              "      <td>55953b37-d5af-11e9-abbe-c412f533dba1</td>\n",
              "    </tr>\n",
              "    <tr>\n",
              "      <th>28998</th>\n",
              "      <td>c7cb1253-6e03-4531-bffe-81866395abce</td>\n",
              "      <td>2020-08-13 22:42:08</td>\n",
              "      <td>0</td>\n",
              "      <td>547f3c7b-d5a4-11e9-abbe-c412f533dba1</td>\n",
              "    </tr>\n",
              "    <tr>\n",
              "      <th>28999</th>\n",
              "      <td>c7cb1253-6e03-4531-bffe-81866395abce</td>\n",
              "      <td>2020-09-17 09:16:10</td>\n",
              "      <td>0</td>\n",
              "      <td>547f3c7b-d5a4-11e9-abbe-c412f533dba1</td>\n",
              "    </tr>\n",
              "  </tbody>\n",
              "</table>\n",
              "<p>29000 rows × 4 columns</p>\n",
              "</div>"
            ],
            "text/plain": [
              "                             transaction_id  ...                        lead_client_id\n",
              "0      2c9f1527-8e7f-4fb1-8000-c747a2ab46c9  ...  8a805e60-6fd6-11e7-80fc-c412f533dba1\n",
              "1      2c9f1527-8e7f-4fb1-8000-c747a2ab46c9  ...  8a805e60-6fd6-11e7-80fc-c412f533dba1\n",
              "2      ab8cbcf7-3271-49a0-8001-6cf9816f63b8  ...  dc0d0e52-629a-11ea-abf3-c412f533dba1\n",
              "3      ab8cbcf7-3271-49a0-8001-6cf9816f63b8  ...  dc0d0e52-629a-11ea-abf3-c412f533dba1\n",
              "4      52f8ebcc-d82d-4be1-8004-72cfbe0dff24  ...  e663b6a0-4a1a-11e8-a2c3-c412f533dba1\n",
              "...                                     ...  ...                                   ...\n",
              "28995  39119f9c-d15b-46e6-bffa-1361257415cd  ...  b56326a0-d5a2-11e9-abbe-c412f533dba1\n",
              "28996  74fa1409-2a93-4a3e-bffb-d2cd0c75f6a5  ...  1a32cb98-d5a2-11e9-abbe-c412f533dba1\n",
              "28997  b5959542-894b-4eda-bffc-8ecaaed4f9e5  ...  55953b37-d5af-11e9-abbe-c412f533dba1\n",
              "28998  c7cb1253-6e03-4531-bffe-81866395abce  ...  547f3c7b-d5a4-11e9-abbe-c412f533dba1\n",
              "28999  c7cb1253-6e03-4531-bffe-81866395abce  ...  547f3c7b-d5a4-11e9-abbe-c412f533dba1\n",
              "\n",
              "[29000 rows x 4 columns]"
            ]
          },
          "metadata": {
            "tags": []
          },
          "execution_count": 105
        }
      ]
    },
    {
      "cell_type": "code",
      "metadata": {
        "colab": {
          "base_uri": "https://localhost:8080/"
        },
        "id": "_hFyuXXPmahS",
        "outputId": "bd9e911e-8f4b-44b9-8552-7f9a954b9a89"
      },
      "source": [
        "df_transactions.dtypes"
      ],
      "execution_count": 106,
      "outputs": [
        {
          "output_type": "execute_result",
          "data": {
            "text/plain": [
              "transaction_id            object\n",
              "created_at        datetime64[ns]\n",
              "m_real_amount             object\n",
              "lead_client_id            object\n",
              "dtype: object"
            ]
          },
          "metadata": {
            "tags": []
          },
          "execution_count": 106
        }
      ]
    },
    {
      "cell_type": "code",
      "metadata": {
        "id": "4DEofkYTTur0"
      },
      "source": [
        "df_clients = pd.DataFrame(result_clients[\"values\"][1:], columns=result_clients[\"values\"][0])"
      ],
      "execution_count": 107,
      "outputs": []
    },
    {
      "cell_type": "code",
      "metadata": {
        "colab": {
          "base_uri": "https://localhost:8080/"
        },
        "id": "IILCSS9eiXH0",
        "outputId": "be3dca42-d0cc-46e6-e051-706ddd332c2e"
      },
      "source": [
        "df_clients.shape"
      ],
      "execution_count": 108,
      "outputs": [
        {
          "output_type": "execute_result",
          "data": {
            "text/plain": [
              "(75766, 3)"
            ]
          },
          "metadata": {
            "tags": []
          },
          "execution_count": 108
        }
      ]
    },
    {
      "cell_type": "code",
      "metadata": {
        "colab": {
          "base_uri": "https://localhost:8080/",
          "height": 414
        },
        "id": "-JDbERu5XOD3",
        "outputId": "89233021-a235-4a6d-e6b2-6f248c7673dc"
      },
      "source": [
        "df_clients"
      ],
      "execution_count": 109,
      "outputs": [
        {
          "output_type": "execute_result",
          "data": {
            "text/html": [
              "<div>\n",
              "<style scoped>\n",
              "    .dataframe tbody tr th:only-of-type {\n",
              "        vertical-align: middle;\n",
              "    }\n",
              "\n",
              "    .dataframe tbody tr th {\n",
              "        vertical-align: top;\n",
              "    }\n",
              "\n",
              "    .dataframe thead th {\n",
              "        text-align: right;\n",
              "    }\n",
              "</style>\n",
              "<table border=\"1\" class=\"dataframe\">\n",
              "  <thead>\n",
              "    <tr style=\"text-align: right;\">\n",
              "      <th></th>\n",
              "      <th>client_id</th>\n",
              "      <th>created_at</th>\n",
              "      <th>l_manager_id</th>\n",
              "    </tr>\n",
              "  </thead>\n",
              "  <tbody>\n",
              "    <tr>\n",
              "      <th>0</th>\n",
              "      <td>0001da7d-fcda-11ea-ac18-c412f533dba1</td>\n",
              "      <td>2020-09-22 17:46:23</td>\n",
              "      <td>9a87c608-52dc-11ea-abeb-c412f533dba1</td>\n",
              "    </tr>\n",
              "    <tr>\n",
              "      <th>1</th>\n",
              "      <td>000a8743-9ae1-11e7-8114-c412f533dba1</td>\n",
              "      <td>2017-09-16 00:00:00</td>\n",
              "      <td>ad52c7a8-a752-11e7-8115-c412f533dba1</td>\n",
              "    </tr>\n",
              "    <tr>\n",
              "      <th>2</th>\n",
              "      <td>000ae57e-2d48-11ea-abeb-c412f533dba1</td>\n",
              "      <td>2020-01-02 14:08:56</td>\n",
              "      <td>43756fa4-57a0-11e9-ab9a-c412f533dba1</td>\n",
              "    </tr>\n",
              "    <tr>\n",
              "      <th>3</th>\n",
              "      <td>00133cde-481c-11ea-abeb-c412f533dba1</td>\n",
              "      <td>2020-02-05 17:25:13</td>\n",
              "      <td>9a87c608-52dc-11ea-abeb-c412f533dba1</td>\n",
              "    </tr>\n",
              "    <tr>\n",
              "      <th>4</th>\n",
              "      <td>00148d3f-07e6-11e8-812a-c412f533dba1</td>\n",
              "      <td>2018-02-02 00:00:00</td>\n",
              "      <td>abed5496-ca88-11e9-abb8-c412f533dba1</td>\n",
              "    </tr>\n",
              "    <tr>\n",
              "      <th>...</th>\n",
              "      <td>...</td>\n",
              "      <td>...</td>\n",
              "      <td>...</td>\n",
              "    </tr>\n",
              "    <tr>\n",
              "      <th>75761</th>\n",
              "      <td>ffeed40c-3a7e-11e9-ab8e-c412f533dba1</td>\n",
              "      <td>2019-02-27 00:00:00</td>\n",
              "      <td>db06b8bc-bfb2-11e7-8116-c412f533dba1</td>\n",
              "    </tr>\n",
              "    <tr>\n",
              "      <th>75762</th>\n",
              "      <td>fff022a5-2c34-11e8-8131-c412f533dba1</td>\n",
              "      <td>2018-03-20 00:00:00</td>\n",
              "      <td>d12fe765-b444-11e9-abb3-c412f533dba1</td>\n",
              "    </tr>\n",
              "    <tr>\n",
              "      <th>75763</th>\n",
              "      <td>fff88086-11bb-11ea-abe7-c412f533dba1</td>\n",
              "      <td>2019-11-28 12:48:58</td>\n",
              "      <td>bf340611-034b-11eb-ac18-c412f533dba1</td>\n",
              "    </tr>\n",
              "    <tr>\n",
              "      <th>75764</th>\n",
              "      <td>fff9ba6e-de05-11e9-abc1-c412f533dba1</td>\n",
              "      <td>2019-09-23 17:27:42</td>\n",
              "      <td>43756fa4-57a0-11e9-ab9a-c412f533dba1</td>\n",
              "    </tr>\n",
              "    <tr>\n",
              "      <th>75765</th>\n",
              "      <td>fffd756f-d49a-11e9-abbe-c412f533dba1</td>\n",
              "      <td>2019-09-11 17:48:52</td>\n",
              "      <td>31298620-0355-11eb-ac18-c412f533dba1</td>\n",
              "    </tr>\n",
              "  </tbody>\n",
              "</table>\n",
              "<p>75766 rows × 3 columns</p>\n",
              "</div>"
            ],
            "text/plain": [
              "                                  client_id  ...                          l_manager_id\n",
              "0      0001da7d-fcda-11ea-ac18-c412f533dba1  ...  9a87c608-52dc-11ea-abeb-c412f533dba1\n",
              "1      000a8743-9ae1-11e7-8114-c412f533dba1  ...  ad52c7a8-a752-11e7-8115-c412f533dba1\n",
              "2      000ae57e-2d48-11ea-abeb-c412f533dba1  ...  43756fa4-57a0-11e9-ab9a-c412f533dba1\n",
              "3      00133cde-481c-11ea-abeb-c412f533dba1  ...  9a87c608-52dc-11ea-abeb-c412f533dba1\n",
              "4      00148d3f-07e6-11e8-812a-c412f533dba1  ...  abed5496-ca88-11e9-abb8-c412f533dba1\n",
              "...                                     ...  ...                                   ...\n",
              "75761  ffeed40c-3a7e-11e9-ab8e-c412f533dba1  ...  db06b8bc-bfb2-11e7-8116-c412f533dba1\n",
              "75762  fff022a5-2c34-11e8-8131-c412f533dba1  ...  d12fe765-b444-11e9-abb3-c412f533dba1\n",
              "75763  fff88086-11bb-11ea-abe7-c412f533dba1  ...  bf340611-034b-11eb-ac18-c412f533dba1\n",
              "75764  fff9ba6e-de05-11e9-abc1-c412f533dba1  ...  43756fa4-57a0-11e9-ab9a-c412f533dba1\n",
              "75765  fffd756f-d49a-11e9-abbe-c412f533dba1  ...  31298620-0355-11eb-ac18-c412f533dba1\n",
              "\n",
              "[75766 rows x 3 columns]"
            ]
          },
          "metadata": {
            "tags": []
          },
          "execution_count": 109
        }
      ]
    },
    {
      "cell_type": "markdown",
      "metadata": {
        "id": "nkcsbA8zg9mN"
      },
      "source": [
        "Заменим поломанные даты на воспринимаемые программой:"
      ]
    },
    {
      "cell_type": "code",
      "metadata": {
        "id": "mmjSgvmBgx_W"
      },
      "source": [
        "df_clients.loc[(df_clients['created_at'] < \"0001-01-02 00:00:00\"), 'created_at'] = '2001-01-01 00:00:01'"
      ],
      "execution_count": 110,
      "outputs": []
    },
    {
      "cell_type": "code",
      "metadata": {
        "colab": {
          "base_uri": "https://localhost:8080/",
          "height": 414
        },
        "id": "3G56FZBIhltL",
        "outputId": "895fd7b2-6393-4056-cf38-6a9d1a848ae2"
      },
      "source": [
        "df_clients"
      ],
      "execution_count": 111,
      "outputs": [
        {
          "output_type": "execute_result",
          "data": {
            "text/html": [
              "<div>\n",
              "<style scoped>\n",
              "    .dataframe tbody tr th:only-of-type {\n",
              "        vertical-align: middle;\n",
              "    }\n",
              "\n",
              "    .dataframe tbody tr th {\n",
              "        vertical-align: top;\n",
              "    }\n",
              "\n",
              "    .dataframe thead th {\n",
              "        text-align: right;\n",
              "    }\n",
              "</style>\n",
              "<table border=\"1\" class=\"dataframe\">\n",
              "  <thead>\n",
              "    <tr style=\"text-align: right;\">\n",
              "      <th></th>\n",
              "      <th>client_id</th>\n",
              "      <th>created_at</th>\n",
              "      <th>l_manager_id</th>\n",
              "    </tr>\n",
              "  </thead>\n",
              "  <tbody>\n",
              "    <tr>\n",
              "      <th>0</th>\n",
              "      <td>0001da7d-fcda-11ea-ac18-c412f533dba1</td>\n",
              "      <td>2020-09-22 17:46:23</td>\n",
              "      <td>9a87c608-52dc-11ea-abeb-c412f533dba1</td>\n",
              "    </tr>\n",
              "    <tr>\n",
              "      <th>1</th>\n",
              "      <td>000a8743-9ae1-11e7-8114-c412f533dba1</td>\n",
              "      <td>2017-09-16 00:00:00</td>\n",
              "      <td>ad52c7a8-a752-11e7-8115-c412f533dba1</td>\n",
              "    </tr>\n",
              "    <tr>\n",
              "      <th>2</th>\n",
              "      <td>000ae57e-2d48-11ea-abeb-c412f533dba1</td>\n",
              "      <td>2020-01-02 14:08:56</td>\n",
              "      <td>43756fa4-57a0-11e9-ab9a-c412f533dba1</td>\n",
              "    </tr>\n",
              "    <tr>\n",
              "      <th>3</th>\n",
              "      <td>00133cde-481c-11ea-abeb-c412f533dba1</td>\n",
              "      <td>2020-02-05 17:25:13</td>\n",
              "      <td>9a87c608-52dc-11ea-abeb-c412f533dba1</td>\n",
              "    </tr>\n",
              "    <tr>\n",
              "      <th>4</th>\n",
              "      <td>00148d3f-07e6-11e8-812a-c412f533dba1</td>\n",
              "      <td>2018-02-02 00:00:00</td>\n",
              "      <td>abed5496-ca88-11e9-abb8-c412f533dba1</td>\n",
              "    </tr>\n",
              "    <tr>\n",
              "      <th>...</th>\n",
              "      <td>...</td>\n",
              "      <td>...</td>\n",
              "      <td>...</td>\n",
              "    </tr>\n",
              "    <tr>\n",
              "      <th>75761</th>\n",
              "      <td>ffeed40c-3a7e-11e9-ab8e-c412f533dba1</td>\n",
              "      <td>2019-02-27 00:00:00</td>\n",
              "      <td>db06b8bc-bfb2-11e7-8116-c412f533dba1</td>\n",
              "    </tr>\n",
              "    <tr>\n",
              "      <th>75762</th>\n",
              "      <td>fff022a5-2c34-11e8-8131-c412f533dba1</td>\n",
              "      <td>2018-03-20 00:00:00</td>\n",
              "      <td>d12fe765-b444-11e9-abb3-c412f533dba1</td>\n",
              "    </tr>\n",
              "    <tr>\n",
              "      <th>75763</th>\n",
              "      <td>fff88086-11bb-11ea-abe7-c412f533dba1</td>\n",
              "      <td>2019-11-28 12:48:58</td>\n",
              "      <td>bf340611-034b-11eb-ac18-c412f533dba1</td>\n",
              "    </tr>\n",
              "    <tr>\n",
              "      <th>75764</th>\n",
              "      <td>fff9ba6e-de05-11e9-abc1-c412f533dba1</td>\n",
              "      <td>2019-09-23 17:27:42</td>\n",
              "      <td>43756fa4-57a0-11e9-ab9a-c412f533dba1</td>\n",
              "    </tr>\n",
              "    <tr>\n",
              "      <th>75765</th>\n",
              "      <td>fffd756f-d49a-11e9-abbe-c412f533dba1</td>\n",
              "      <td>2019-09-11 17:48:52</td>\n",
              "      <td>31298620-0355-11eb-ac18-c412f533dba1</td>\n",
              "    </tr>\n",
              "  </tbody>\n",
              "</table>\n",
              "<p>75766 rows × 3 columns</p>\n",
              "</div>"
            ],
            "text/plain": [
              "                                  client_id  ...                          l_manager_id\n",
              "0      0001da7d-fcda-11ea-ac18-c412f533dba1  ...  9a87c608-52dc-11ea-abeb-c412f533dba1\n",
              "1      000a8743-9ae1-11e7-8114-c412f533dba1  ...  ad52c7a8-a752-11e7-8115-c412f533dba1\n",
              "2      000ae57e-2d48-11ea-abeb-c412f533dba1  ...  43756fa4-57a0-11e9-ab9a-c412f533dba1\n",
              "3      00133cde-481c-11ea-abeb-c412f533dba1  ...  9a87c608-52dc-11ea-abeb-c412f533dba1\n",
              "4      00148d3f-07e6-11e8-812a-c412f533dba1  ...  abed5496-ca88-11e9-abb8-c412f533dba1\n",
              "...                                     ...  ...                                   ...\n",
              "75761  ffeed40c-3a7e-11e9-ab8e-c412f533dba1  ...  db06b8bc-bfb2-11e7-8116-c412f533dba1\n",
              "75762  fff022a5-2c34-11e8-8131-c412f533dba1  ...  d12fe765-b444-11e9-abb3-c412f533dba1\n",
              "75763  fff88086-11bb-11ea-abe7-c412f533dba1  ...  bf340611-034b-11eb-ac18-c412f533dba1\n",
              "75764  fff9ba6e-de05-11e9-abc1-c412f533dba1  ...  43756fa4-57a0-11e9-ab9a-c412f533dba1\n",
              "75765  fffd756f-d49a-11e9-abbe-c412f533dba1  ...  31298620-0355-11eb-ac18-c412f533dba1\n",
              "\n",
              "[75766 rows x 3 columns]"
            ]
          },
          "metadata": {
            "tags": []
          },
          "execution_count": 111
        }
      ]
    },
    {
      "cell_type": "markdown",
      "metadata": {
        "id": "r3KgxhTzgybK"
      },
      "source": [
        "Поменяем тип данных в столбце created_at на date:"
      ]
    },
    {
      "cell_type": "code",
      "metadata": {
        "id": "orBZ2K_1T4cI"
      },
      "source": [
        "df_clients['created_at'] = pd.to_datetime(df_clients['created_at'])"
      ],
      "execution_count": 112,
      "outputs": []
    },
    {
      "cell_type": "markdown",
      "metadata": {
        "id": "BVzZeJYprECm"
      },
      "source": [
        "Удалим из этого списка даты, после первой записи в таблице df_leads для дальнейшего выявления старых / новых пользователей:"
      ]
    },
    {
      "cell_type": "code",
      "metadata": {
        "id": "X6rTeXVmqzdl"
      },
      "source": [
        "df_clients = df_clients.query(\"created_at < '2020-10-01 0:02:55'\")"
      ],
      "execution_count": 113,
      "outputs": []
    },
    {
      "cell_type": "code",
      "metadata": {
        "colab": {
          "base_uri": "https://localhost:8080/",
          "height": 414
        },
        "id": "sPguHC1IUyhA",
        "outputId": "866d28e0-d80f-407c-f971-c66734e1348b"
      },
      "source": [
        "df_clients"
      ],
      "execution_count": 114,
      "outputs": [
        {
          "output_type": "execute_result",
          "data": {
            "text/html": [
              "<div>\n",
              "<style scoped>\n",
              "    .dataframe tbody tr th:only-of-type {\n",
              "        vertical-align: middle;\n",
              "    }\n",
              "\n",
              "    .dataframe tbody tr th {\n",
              "        vertical-align: top;\n",
              "    }\n",
              "\n",
              "    .dataframe thead th {\n",
              "        text-align: right;\n",
              "    }\n",
              "</style>\n",
              "<table border=\"1\" class=\"dataframe\">\n",
              "  <thead>\n",
              "    <tr style=\"text-align: right;\">\n",
              "      <th></th>\n",
              "      <th>client_id</th>\n",
              "      <th>created_at</th>\n",
              "      <th>l_manager_id</th>\n",
              "    </tr>\n",
              "  </thead>\n",
              "  <tbody>\n",
              "    <tr>\n",
              "      <th>0</th>\n",
              "      <td>0001da7d-fcda-11ea-ac18-c412f533dba1</td>\n",
              "      <td>2020-09-22 17:46:23</td>\n",
              "      <td>9a87c608-52dc-11ea-abeb-c412f533dba1</td>\n",
              "    </tr>\n",
              "    <tr>\n",
              "      <th>1</th>\n",
              "      <td>000a8743-9ae1-11e7-8114-c412f533dba1</td>\n",
              "      <td>2017-09-16 00:00:00</td>\n",
              "      <td>ad52c7a8-a752-11e7-8115-c412f533dba1</td>\n",
              "    </tr>\n",
              "    <tr>\n",
              "      <th>2</th>\n",
              "      <td>000ae57e-2d48-11ea-abeb-c412f533dba1</td>\n",
              "      <td>2020-01-02 14:08:56</td>\n",
              "      <td>43756fa4-57a0-11e9-ab9a-c412f533dba1</td>\n",
              "    </tr>\n",
              "    <tr>\n",
              "      <th>3</th>\n",
              "      <td>00133cde-481c-11ea-abeb-c412f533dba1</td>\n",
              "      <td>2020-02-05 17:25:13</td>\n",
              "      <td>9a87c608-52dc-11ea-abeb-c412f533dba1</td>\n",
              "    </tr>\n",
              "    <tr>\n",
              "      <th>4</th>\n",
              "      <td>00148d3f-07e6-11e8-812a-c412f533dba1</td>\n",
              "      <td>2018-02-02 00:00:00</td>\n",
              "      <td>abed5496-ca88-11e9-abb8-c412f533dba1</td>\n",
              "    </tr>\n",
              "    <tr>\n",
              "      <th>...</th>\n",
              "      <td>...</td>\n",
              "      <td>...</td>\n",
              "      <td>...</td>\n",
              "    </tr>\n",
              "    <tr>\n",
              "      <th>75761</th>\n",
              "      <td>ffeed40c-3a7e-11e9-ab8e-c412f533dba1</td>\n",
              "      <td>2019-02-27 00:00:00</td>\n",
              "      <td>db06b8bc-bfb2-11e7-8116-c412f533dba1</td>\n",
              "    </tr>\n",
              "    <tr>\n",
              "      <th>75762</th>\n",
              "      <td>fff022a5-2c34-11e8-8131-c412f533dba1</td>\n",
              "      <td>2018-03-20 00:00:00</td>\n",
              "      <td>d12fe765-b444-11e9-abb3-c412f533dba1</td>\n",
              "    </tr>\n",
              "    <tr>\n",
              "      <th>75763</th>\n",
              "      <td>fff88086-11bb-11ea-abe7-c412f533dba1</td>\n",
              "      <td>2019-11-28 12:48:58</td>\n",
              "      <td>bf340611-034b-11eb-ac18-c412f533dba1</td>\n",
              "    </tr>\n",
              "    <tr>\n",
              "      <th>75764</th>\n",
              "      <td>fff9ba6e-de05-11e9-abc1-c412f533dba1</td>\n",
              "      <td>2019-09-23 17:27:42</td>\n",
              "      <td>43756fa4-57a0-11e9-ab9a-c412f533dba1</td>\n",
              "    </tr>\n",
              "    <tr>\n",
              "      <th>75765</th>\n",
              "      <td>fffd756f-d49a-11e9-abbe-c412f533dba1</td>\n",
              "      <td>2019-09-11 17:48:52</td>\n",
              "      <td>31298620-0355-11eb-ac18-c412f533dba1</td>\n",
              "    </tr>\n",
              "  </tbody>\n",
              "</table>\n",
              "<p>74017 rows × 3 columns</p>\n",
              "</div>"
            ],
            "text/plain": [
              "                                  client_id  ...                          l_manager_id\n",
              "0      0001da7d-fcda-11ea-ac18-c412f533dba1  ...  9a87c608-52dc-11ea-abeb-c412f533dba1\n",
              "1      000a8743-9ae1-11e7-8114-c412f533dba1  ...  ad52c7a8-a752-11e7-8115-c412f533dba1\n",
              "2      000ae57e-2d48-11ea-abeb-c412f533dba1  ...  43756fa4-57a0-11e9-ab9a-c412f533dba1\n",
              "3      00133cde-481c-11ea-abeb-c412f533dba1  ...  9a87c608-52dc-11ea-abeb-c412f533dba1\n",
              "4      00148d3f-07e6-11e8-812a-c412f533dba1  ...  abed5496-ca88-11e9-abb8-c412f533dba1\n",
              "...                                     ...  ...                                   ...\n",
              "75761  ffeed40c-3a7e-11e9-ab8e-c412f533dba1  ...  db06b8bc-bfb2-11e7-8116-c412f533dba1\n",
              "75762  fff022a5-2c34-11e8-8131-c412f533dba1  ...  d12fe765-b444-11e9-abb3-c412f533dba1\n",
              "75763  fff88086-11bb-11ea-abe7-c412f533dba1  ...  bf340611-034b-11eb-ac18-c412f533dba1\n",
              "75764  fff9ba6e-de05-11e9-abc1-c412f533dba1  ...  43756fa4-57a0-11e9-ab9a-c412f533dba1\n",
              "75765  fffd756f-d49a-11e9-abbe-c412f533dba1  ...  31298620-0355-11eb-ac18-c412f533dba1\n",
              "\n",
              "[74017 rows x 3 columns]"
            ]
          },
          "metadata": {
            "tags": []
          },
          "execution_count": 114
        }
      ]
    },
    {
      "cell_type": "code",
      "metadata": {
        "colab": {
          "base_uri": "https://localhost:8080/"
        },
        "id": "4Nt84hU1ZLGq",
        "outputId": "e5ea59c7-5a1e-4a42-9c2c-1a79d7feed02"
      },
      "source": [
        "df_clients.dtypes"
      ],
      "execution_count": 115,
      "outputs": [
        {
          "output_type": "execute_result",
          "data": {
            "text/plain": [
              "client_id               object\n",
              "created_at      datetime64[ns]\n",
              "l_manager_id            object\n",
              "dtype: object"
            ]
          },
          "metadata": {
            "tags": []
          },
          "execution_count": 115
        }
      ]
    },
    {
      "cell_type": "code",
      "metadata": {
        "id": "cWIx88xPUi1B"
      },
      "source": [
        "df_managers = pd.DataFrame(result_managers[\"values\"][1:], columns=result_managers[\"values\"][0])"
      ],
      "execution_count": 116,
      "outputs": []
    },
    {
      "cell_type": "code",
      "metadata": {
        "colab": {
          "base_uri": "https://localhost:8080/"
        },
        "id": "ZJ-xZK6_iaqe",
        "outputId": "e3939a70-25ff-4ea1-8c4d-4a1817d17ae0"
      },
      "source": [
        "df_managers.shape"
      ],
      "execution_count": 117,
      "outputs": [
        {
          "output_type": "execute_result",
          "data": {
            "text/plain": [
              "(13, 3)"
            ]
          },
          "metadata": {
            "tags": []
          },
          "execution_count": 117
        }
      ]
    },
    {
      "cell_type": "code",
      "metadata": {
        "colab": {
          "base_uri": "https://localhost:8080/",
          "height": 447
        },
        "id": "Dj9qykZsVKQS",
        "outputId": "cd052363-e61c-460f-c49a-fb23a79b3682"
      },
      "source": [
        "df_managers"
      ],
      "execution_count": 118,
      "outputs": [
        {
          "output_type": "execute_result",
          "data": {
            "text/html": [
              "<div>\n",
              "<style scoped>\n",
              "    .dataframe tbody tr th:only-of-type {\n",
              "        vertical-align: middle;\n",
              "    }\n",
              "\n",
              "    .dataframe tbody tr th {\n",
              "        vertical-align: top;\n",
              "    }\n",
              "\n",
              "    .dataframe thead th {\n",
              "        text-align: right;\n",
              "    }\n",
              "</style>\n",
              "<table border=\"1\" class=\"dataframe\">\n",
              "  <thead>\n",
              "    <tr style=\"text-align: right;\">\n",
              "      <th></th>\n",
              "      <th>manager_id</th>\n",
              "      <th>d_manager</th>\n",
              "      <th>d_club</th>\n",
              "    </tr>\n",
              "  </thead>\n",
              "  <tbody>\n",
              "    <tr>\n",
              "      <th>0</th>\n",
              "      <td>1e9c5562-0cfc-11ea-abe1-c412f533dba1</td>\n",
              "      <td>manager #8</td>\n",
              "      <td>club #2</td>\n",
              "    </tr>\n",
              "    <tr>\n",
              "      <th>1</th>\n",
              "      <td>43756fa4-57a0-11e9-ab9a-c412f533dba1</td>\n",
              "      <td>manager #11</td>\n",
              "      <td>club #4</td>\n",
              "    </tr>\n",
              "    <tr>\n",
              "      <th>2</th>\n",
              "      <td>543888c4-fbb3-11e9-abdc-c412f533dba1</td>\n",
              "      <td>manager #12</td>\n",
              "      <td>club #3</td>\n",
              "    </tr>\n",
              "    <tr>\n",
              "      <th>3</th>\n",
              "      <td>5dd88f32-6501-11ea-abf3-c412f533dba1</td>\n",
              "      <td>manager #10</td>\n",
              "      <td>club #2</td>\n",
              "    </tr>\n",
              "    <tr>\n",
              "      <th>4</th>\n",
              "      <td>9a87c608-52dc-11ea-abeb-c412f533dba1</td>\n",
              "      <td>manager #9</td>\n",
              "      <td>club #3</td>\n",
              "    </tr>\n",
              "    <tr>\n",
              "      <th>5</th>\n",
              "      <td>abed5496-ca88-11e9-abb8-c412f533dba1</td>\n",
              "      <td>manager #5</td>\n",
              "      <td>club #4</td>\n",
              "    </tr>\n",
              "    <tr>\n",
              "      <th>6</th>\n",
              "      <td>ad52c7a8-a752-11e7-8115-c412f533dba1</td>\n",
              "      <td>manager #7</td>\n",
              "      <td>club #1</td>\n",
              "    </tr>\n",
              "    <tr>\n",
              "      <th>7</th>\n",
              "      <td>b55a233c-5df6-11ea-abf2-c412f533dba1</td>\n",
              "      <td>manager #2</td>\n",
              "      <td>club #4</td>\n",
              "    </tr>\n",
              "    <tr>\n",
              "      <th>8</th>\n",
              "      <td>b832aac3-fcda-11ea-ac18-c412f533dba1</td>\n",
              "      <td>manager #13</td>\n",
              "      <td>club #3</td>\n",
              "    </tr>\n",
              "    <tr>\n",
              "      <th>9</th>\n",
              "      <td>d12fe765-b444-11e9-abb3-c412f533dba1</td>\n",
              "      <td>manager #1</td>\n",
              "      <td>club #1</td>\n",
              "    </tr>\n",
              "    <tr>\n",
              "      <th>10</th>\n",
              "      <td>db06b8bc-bfb2-11e7-8116-c412f533dba1</td>\n",
              "      <td>manager #4</td>\n",
              "      <td>club #2</td>\n",
              "    </tr>\n",
              "    <tr>\n",
              "      <th>11</th>\n",
              "      <td>e463b03f-2d74-11eb-ac1f-c412f533dba1</td>\n",
              "      <td>manager #3</td>\n",
              "      <td>club #1</td>\n",
              "    </tr>\n",
              "    <tr>\n",
              "      <th>12</th>\n",
              "      <td>f44596c6-12cd-11eb-ac1c-c412f533dba1</td>\n",
              "      <td>manager #6</td>\n",
              "      <td>club #2</td>\n",
              "    </tr>\n",
              "  </tbody>\n",
              "</table>\n",
              "</div>"
            ],
            "text/plain": [
              "                              manager_id    d_manager   d_club\n",
              "0   1e9c5562-0cfc-11ea-abe1-c412f533dba1   manager #8  club #2\n",
              "1   43756fa4-57a0-11e9-ab9a-c412f533dba1  manager #11  club #4\n",
              "2   543888c4-fbb3-11e9-abdc-c412f533dba1  manager #12  club #3\n",
              "3   5dd88f32-6501-11ea-abf3-c412f533dba1  manager #10  club #2\n",
              "4   9a87c608-52dc-11ea-abeb-c412f533dba1   manager #9  club #3\n",
              "5   abed5496-ca88-11e9-abb8-c412f533dba1   manager #5  club #4\n",
              "6   ad52c7a8-a752-11e7-8115-c412f533dba1   manager #7  club #1\n",
              "7   b55a233c-5df6-11ea-abf2-c412f533dba1   manager #2  club #4\n",
              "8   b832aac3-fcda-11ea-ac18-c412f533dba1  manager #13  club #3\n",
              "9   d12fe765-b444-11e9-abb3-c412f533dba1   manager #1  club #1\n",
              "10  db06b8bc-bfb2-11e7-8116-c412f533dba1   manager #4  club #2\n",
              "11  e463b03f-2d74-11eb-ac1f-c412f533dba1   manager #3  club #1\n",
              "12  f44596c6-12cd-11eb-ac1c-c412f533dba1   manager #6  club #2"
            ]
          },
          "metadata": {
            "tags": []
          },
          "execution_count": 118
        }
      ]
    },
    {
      "cell_type": "code",
      "metadata": {
        "id": "jhg_wVWPUjmW"
      },
      "source": [
        "df_leads = pd.DataFrame(result_leads[\"values\"][1:], columns=result_leads[\"values\"][0])"
      ],
      "execution_count": 119,
      "outputs": []
    },
    {
      "cell_type": "code",
      "metadata": {
        "id": "gYE6Uzuclw3Z"
      },
      "source": [
        "df_leads['created_at'] = pd.to_datetime(df_leads['created_at'])"
      ],
      "execution_count": 120,
      "outputs": []
    },
    {
      "cell_type": "code",
      "metadata": {
        "colab": {
          "base_uri": "https://localhost:8080/"
        },
        "id": "9eTZwIZTieRt",
        "outputId": "dd459e54-f77b-4865-d7bb-b6e7b4b6bcee"
      },
      "source": [
        "df_leads.shape"
      ],
      "execution_count": 121,
      "outputs": [
        {
          "output_type": "execute_result",
          "data": {
            "text/plain": [
              "(3337, 6)"
            ]
          },
          "metadata": {
            "tags": []
          },
          "execution_count": 121
        }
      ]
    },
    {
      "cell_type": "code",
      "metadata": {
        "colab": {
          "base_uri": "https://localhost:8080/"
        },
        "id": "6_jUN1XNiiWt",
        "outputId": "b2da1792-4ade-44ee-b88b-8a2a612886fd"
      },
      "source": [
        "df_leads.dtypes"
      ],
      "execution_count": 122,
      "outputs": [
        {
          "output_type": "execute_result",
          "data": {
            "text/plain": [
              "lead_id                 object\n",
              "created_at      datetime64[ns]\n",
              "d_utm_medium            object\n",
              "d_utm_source            object\n",
              "l_manager_id            object\n",
              "l_client_id             object\n",
              "dtype: object"
            ]
          },
          "metadata": {
            "tags": []
          },
          "execution_count": 122
        }
      ]
    },
    {
      "cell_type": "code",
      "metadata": {
        "colab": {
          "base_uri": "https://localhost:8080/",
          "height": 414
        },
        "id": "HE7k2mJbO7SX",
        "outputId": "959d851c-9f4b-4065-caa5-b7cf32abf864"
      },
      "source": [
        "df_leads"
      ],
      "execution_count": 123,
      "outputs": [
        {
          "output_type": "execute_result",
          "data": {
            "text/html": [
              "<div>\n",
              "<style scoped>\n",
              "    .dataframe tbody tr th:only-of-type {\n",
              "        vertical-align: middle;\n",
              "    }\n",
              "\n",
              "    .dataframe tbody tr th {\n",
              "        vertical-align: top;\n",
              "    }\n",
              "\n",
              "    .dataframe thead th {\n",
              "        text-align: right;\n",
              "    }\n",
              "</style>\n",
              "<table border=\"1\" class=\"dataframe\">\n",
              "  <thead>\n",
              "    <tr style=\"text-align: right;\">\n",
              "      <th></th>\n",
              "      <th>lead_id</th>\n",
              "      <th>created_at</th>\n",
              "      <th>d_utm_medium</th>\n",
              "      <th>d_utm_source</th>\n",
              "      <th>l_manager_id</th>\n",
              "      <th>l_client_id</th>\n",
              "    </tr>\n",
              "  </thead>\n",
              "  <tbody>\n",
              "    <tr>\n",
              "      <th>0</th>\n",
              "      <td>00678e71-0fb9-11eb-ac1a-c412f533dba1</td>\n",
              "      <td>2020-10-16 18:08:09</td>\n",
              "      <td>sms</td>\n",
              "      <td>viber</td>\n",
              "      <td>1e9c5562-0cfc-11ea-abe1-c412f533dba1</td>\n",
              "      <td>7264cf21-a31d-11e9-abb0-c412f533dba1</td>\n",
              "    </tr>\n",
              "    <tr>\n",
              "      <th>1</th>\n",
              "      <td>0078b05d-0f1f-11eb-ac1a-c412f533dba1</td>\n",
              "      <td>2020-10-15 23:45:40</td>\n",
              "      <td>cpc</td>\n",
              "      <td>instagram</td>\n",
              "      <td>d12fe765-b444-11e9-abb3-c412f533dba1</td>\n",
              "      <td>606c5b29-0f88-11eb-ac1a-c412f533dba1</td>\n",
              "    </tr>\n",
              "    <tr>\n",
              "      <th>2</th>\n",
              "      <td>007d1401-2af3-11eb-ac1f-c412f533dba1</td>\n",
              "      <td>2020-11-20 09:41:14</td>\n",
              "      <td>cpc</td>\n",
              "      <td>instagram</td>\n",
              "      <td>43756fa4-57a0-11e9-ab9a-c412f533dba1</td>\n",
              "      <td>1f389c6a-d5ab-11e9-abbe-c412f533dba1</td>\n",
              "    </tr>\n",
              "    <tr>\n",
              "      <th>3</th>\n",
              "      <td>0084e614-2fcc-11eb-ac1f-c412f533dba1</td>\n",
              "      <td>2020-11-26 13:44:40</td>\n",
              "      <td></td>\n",
              "      <td></td>\n",
              "      <td>00000000-0000-0000-0000-000000000000</td>\n",
              "      <td>00000000-0000-0000-0000-000000000000</td>\n",
              "    </tr>\n",
              "    <tr>\n",
              "      <th>4</th>\n",
              "      <td>009b1616-145d-11eb-ac1d-c412f533dba1</td>\n",
              "      <td>2020-10-22 15:52:04</td>\n",
              "      <td>cpc</td>\n",
              "      <td>vk</td>\n",
              "      <td>5dd88f32-6501-11ea-abf3-c412f533dba1</td>\n",
              "      <td>ac2c0012-6fd5-11e7-80fc-c412f533dba1</td>\n",
              "    </tr>\n",
              "    <tr>\n",
              "      <th>...</th>\n",
              "      <td>...</td>\n",
              "      <td>...</td>\n",
              "      <td>...</td>\n",
              "      <td>...</td>\n",
              "      <td>...</td>\n",
              "      <td>...</td>\n",
              "    </tr>\n",
              "    <tr>\n",
              "      <th>3332</th>\n",
              "      <td>ffaa0815-16c4-11eb-ac1d-c412f533dba1</td>\n",
              "      <td>2020-10-25 17:21:33</td>\n",
              "      <td></td>\n",
              "      <td></td>\n",
              "      <td>5dd88f32-6501-11ea-abf3-c412f533dba1</td>\n",
              "      <td>ffaa0816-16c4-11eb-ac1d-c412f533dba1</td>\n",
              "    </tr>\n",
              "    <tr>\n",
              "      <th>3333</th>\n",
              "      <td>ffacb5af-194f-11eb-ac1d-c412f533dba1</td>\n",
              "      <td>2020-10-28 23:01:35</td>\n",
              "      <td>cpc</td>\n",
              "      <td>vk</td>\n",
              "      <td>ad52c7a8-a752-11e7-8115-c412f533dba1</td>\n",
              "      <td>377ea5e0-d089-11e9-abbd-c412f533dba1</td>\n",
              "    </tr>\n",
              "    <tr>\n",
              "      <th>3334</th>\n",
              "      <td>ffbd53f1-3150-11eb-ac1f-c412f533dba1</td>\n",
              "      <td>2020-11-28 12:09:13</td>\n",
              "      <td>cpc</td>\n",
              "      <td>google</td>\n",
              "      <td>5dd88f32-6501-11ea-abf3-c412f533dba1</td>\n",
              "      <td>6dd39f15-d5a3-11e9-abbe-c412f533dba1</td>\n",
              "    </tr>\n",
              "    <tr>\n",
              "      <th>3335</th>\n",
              "      <td>ffc0b363-2ae9-11eb-ac1f-c412f533dba1</td>\n",
              "      <td>2020-11-20 08:36:48</td>\n",
              "      <td>cpc</td>\n",
              "      <td>instagram</td>\n",
              "      <td>ad52c7a8-a752-11e7-8115-c412f533dba1</td>\n",
              "      <td>00000000-0000-0000-0000-000000000000</td>\n",
              "    </tr>\n",
              "    <tr>\n",
              "      <th>3336</th>\n",
              "      <td>ffcdebc8-15c2-11eb-ac1d-c412f533dba1</td>\n",
              "      <td>2020-10-24 10:34:43</td>\n",
              "      <td>utm_medium</td>\n",
              "      <td>utm_source</td>\n",
              "      <td>ad52c7a8-a752-11e7-8115-c412f533dba1</td>\n",
              "      <td>f3357d13-15c7-11eb-ac1d-c412f533dba1</td>\n",
              "    </tr>\n",
              "  </tbody>\n",
              "</table>\n",
              "<p>3337 rows × 6 columns</p>\n",
              "</div>"
            ],
            "text/plain": [
              "                                   lead_id  ...                           l_client_id\n",
              "0     00678e71-0fb9-11eb-ac1a-c412f533dba1  ...  7264cf21-a31d-11e9-abb0-c412f533dba1\n",
              "1     0078b05d-0f1f-11eb-ac1a-c412f533dba1  ...  606c5b29-0f88-11eb-ac1a-c412f533dba1\n",
              "2     007d1401-2af3-11eb-ac1f-c412f533dba1  ...  1f389c6a-d5ab-11e9-abbe-c412f533dba1\n",
              "3     0084e614-2fcc-11eb-ac1f-c412f533dba1  ...  00000000-0000-0000-0000-000000000000\n",
              "4     009b1616-145d-11eb-ac1d-c412f533dba1  ...  ac2c0012-6fd5-11e7-80fc-c412f533dba1\n",
              "...                                    ...  ...                                   ...\n",
              "3332  ffaa0815-16c4-11eb-ac1d-c412f533dba1  ...  ffaa0816-16c4-11eb-ac1d-c412f533dba1\n",
              "3333  ffacb5af-194f-11eb-ac1d-c412f533dba1  ...  377ea5e0-d089-11e9-abbd-c412f533dba1\n",
              "3334  ffbd53f1-3150-11eb-ac1f-c412f533dba1  ...  6dd39f15-d5a3-11e9-abbe-c412f533dba1\n",
              "3335  ffc0b363-2ae9-11eb-ac1f-c412f533dba1  ...  00000000-0000-0000-0000-000000000000\n",
              "3336  ffcdebc8-15c2-11eb-ac1d-c412f533dba1  ...  f3357d13-15c7-11eb-ac1d-c412f533dba1\n",
              "\n",
              "[3337 rows x 6 columns]"
            ]
          },
          "metadata": {
            "tags": []
          },
          "execution_count": 123
        }
      ]
    },
    {
      "cell_type": "markdown",
      "metadata": {
        "id": "hbraGMxi8J48"
      },
      "source": [
        "________\n",
        "\n",
        "Все 4 таблицы подготовлены, начинаем соединять:\n",
        "________"
      ]
    },
    {
      "cell_type": "code",
      "metadata": {
        "id": "6EAfmghBsV2X"
      },
      "source": [
        "# df_transactions\n",
        "# df_clients\n",
        "# df_managers\n",
        "# df_leads"
      ],
      "execution_count": 124,
      "outputs": []
    },
    {
      "cell_type": "code",
      "metadata": {
        "colab": {
          "base_uri": "https://localhost:8080/"
        },
        "id": "DluMe9epDAYf",
        "outputId": "a26b3dc8-fe3c-4a61-c15c-89667fb524bc"
      },
      "source": [
        "df_clients.shape"
      ],
      "execution_count": 125,
      "outputs": [
        {
          "output_type": "execute_result",
          "data": {
            "text/plain": [
              "(74017, 3)"
            ]
          },
          "metadata": {
            "tags": []
          },
          "execution_count": 125
        }
      ]
    },
    {
      "cell_type": "code",
      "metadata": {
        "colab": {
          "base_uri": "https://localhost:8080/"
        },
        "id": "en0BNT-DDAQE",
        "outputId": "64adbfb1-e294-4709-b5c5-632f3457ba55"
      },
      "source": [
        "df_leads.shape"
      ],
      "execution_count": 126,
      "outputs": [
        {
          "output_type": "execute_result",
          "data": {
            "text/plain": [
              "(3337, 6)"
            ]
          },
          "metadata": {
            "tags": []
          },
          "execution_count": 126
        }
      ]
    },
    {
      "cell_type": "markdown",
      "metadata": {
        "id": "QG5-05_ikqVM"
      },
      "source": [
        "Соединим **df_clients** и **df_leads**:"
      ]
    },
    {
      "cell_type": "code",
      "metadata": {
        "id": "7bseM164tcB7"
      },
      "source": [
        "df_cl = df_clients.merge(df_leads, left_on=\"client_id\", right_on=\"l_client_id\", how=\"outer\", sort=False)"
      ],
      "execution_count": 127,
      "outputs": []
    },
    {
      "cell_type": "code",
      "metadata": {
        "colab": {
          "base_uri": "https://localhost:8080/",
          "height": 414
        },
        "id": "Z8rh7RWJgS6M",
        "outputId": "022537fc-7071-4477-9229-beaf3661a6c6"
      },
      "source": [
        "df_cl"
      ],
      "execution_count": 128,
      "outputs": [
        {
          "output_type": "execute_result",
          "data": {
            "text/html": [
              "<div>\n",
              "<style scoped>\n",
              "    .dataframe tbody tr th:only-of-type {\n",
              "        vertical-align: middle;\n",
              "    }\n",
              "\n",
              "    .dataframe tbody tr th {\n",
              "        vertical-align: top;\n",
              "    }\n",
              "\n",
              "    .dataframe thead th {\n",
              "        text-align: right;\n",
              "    }\n",
              "</style>\n",
              "<table border=\"1\" class=\"dataframe\">\n",
              "  <thead>\n",
              "    <tr style=\"text-align: right;\">\n",
              "      <th></th>\n",
              "      <th>client_id</th>\n",
              "      <th>created_at_x</th>\n",
              "      <th>l_manager_id_x</th>\n",
              "      <th>lead_id</th>\n",
              "      <th>created_at_y</th>\n",
              "      <th>d_utm_medium</th>\n",
              "      <th>d_utm_source</th>\n",
              "      <th>l_manager_id_y</th>\n",
              "      <th>l_client_id</th>\n",
              "    </tr>\n",
              "  </thead>\n",
              "  <tbody>\n",
              "    <tr>\n",
              "      <th>0</th>\n",
              "      <td>0001da7d-fcda-11ea-ac18-c412f533dba1</td>\n",
              "      <td>2020-09-22 17:46:23</td>\n",
              "      <td>9a87c608-52dc-11ea-abeb-c412f533dba1</td>\n",
              "      <td>NaN</td>\n",
              "      <td>NaT</td>\n",
              "      <td>NaN</td>\n",
              "      <td>NaN</td>\n",
              "      <td>NaN</td>\n",
              "      <td>NaN</td>\n",
              "    </tr>\n",
              "    <tr>\n",
              "      <th>1</th>\n",
              "      <td>000a8743-9ae1-11e7-8114-c412f533dba1</td>\n",
              "      <td>2017-09-16 00:00:00</td>\n",
              "      <td>ad52c7a8-a752-11e7-8115-c412f533dba1</td>\n",
              "      <td>NaN</td>\n",
              "      <td>NaT</td>\n",
              "      <td>NaN</td>\n",
              "      <td>NaN</td>\n",
              "      <td>NaN</td>\n",
              "      <td>NaN</td>\n",
              "    </tr>\n",
              "    <tr>\n",
              "      <th>2</th>\n",
              "      <td>000ae57e-2d48-11ea-abeb-c412f533dba1</td>\n",
              "      <td>2020-01-02 14:08:56</td>\n",
              "      <td>43756fa4-57a0-11e9-ab9a-c412f533dba1</td>\n",
              "      <td>NaN</td>\n",
              "      <td>NaT</td>\n",
              "      <td>NaN</td>\n",
              "      <td>NaN</td>\n",
              "      <td>NaN</td>\n",
              "      <td>NaN</td>\n",
              "    </tr>\n",
              "    <tr>\n",
              "      <th>3</th>\n",
              "      <td>00133cde-481c-11ea-abeb-c412f533dba1</td>\n",
              "      <td>2020-02-05 17:25:13</td>\n",
              "      <td>9a87c608-52dc-11ea-abeb-c412f533dba1</td>\n",
              "      <td>NaN</td>\n",
              "      <td>NaT</td>\n",
              "      <td>NaN</td>\n",
              "      <td>NaN</td>\n",
              "      <td>NaN</td>\n",
              "      <td>NaN</td>\n",
              "    </tr>\n",
              "    <tr>\n",
              "      <th>4</th>\n",
              "      <td>00148d3f-07e6-11e8-812a-c412f533dba1</td>\n",
              "      <td>2018-02-02 00:00:00</td>\n",
              "      <td>abed5496-ca88-11e9-abb8-c412f533dba1</td>\n",
              "      <td>NaN</td>\n",
              "      <td>NaT</td>\n",
              "      <td>NaN</td>\n",
              "      <td>NaN</td>\n",
              "      <td>NaN</td>\n",
              "      <td>NaN</td>\n",
              "    </tr>\n",
              "    <tr>\n",
              "      <th>...</th>\n",
              "      <td>...</td>\n",
              "      <td>...</td>\n",
              "      <td>...</td>\n",
              "      <td>...</td>\n",
              "      <td>...</td>\n",
              "      <td>...</td>\n",
              "      <td>...</td>\n",
              "      <td>...</td>\n",
              "      <td>...</td>\n",
              "    </tr>\n",
              "    <tr>\n",
              "      <th>76538</th>\n",
              "      <td>NaN</td>\n",
              "      <td>NaT</td>\n",
              "      <td>NaN</td>\n",
              "      <td>fee0af4b-0a44-11eb-ac1a-c412f533dba1</td>\n",
              "      <td>2020-10-09 19:35:02</td>\n",
              "      <td>cpc</td>\n",
              "      <td>instagram</td>\n",
              "      <td>d12fe765-b444-11e9-abb3-c412f533dba1</td>\n",
              "      <td>f3268586-0a45-11eb-ac1a-c412f533dba1</td>\n",
              "    </tr>\n",
              "    <tr>\n",
              "      <th>76539</th>\n",
              "      <td>NaN</td>\n",
              "      <td>NaT</td>\n",
              "      <td>NaN</td>\n",
              "      <td>ff230ba3-0912-11eb-ac1a-c412f533dba1</td>\n",
              "      <td>2020-10-08 07:04:36</td>\n",
              "      <td>cpc</td>\n",
              "      <td>yandex</td>\n",
              "      <td>9a87c608-52dc-11ea-abeb-c412f533dba1</td>\n",
              "      <td>78d56291-093f-11eb-ac1a-c412f533dba1</td>\n",
              "    </tr>\n",
              "    <tr>\n",
              "      <th>76540</th>\n",
              "      <td>NaN</td>\n",
              "      <td>NaT</td>\n",
              "      <td>NaN</td>\n",
              "      <td>ff7d0045-12c7-11eb-ac1c-c412f533dba1</td>\n",
              "      <td>2020-10-20 15:32:56</td>\n",
              "      <td>sms</td>\n",
              "      <td>viber</td>\n",
              "      <td>9a87c608-52dc-11ea-abeb-c412f533dba1</td>\n",
              "      <td>2e4fbe67-12cb-11eb-ac1c-c412f533dba1</td>\n",
              "    </tr>\n",
              "    <tr>\n",
              "      <th>76541</th>\n",
              "      <td>NaN</td>\n",
              "      <td>NaT</td>\n",
              "      <td>NaN</td>\n",
              "      <td>ffa2180e-1f72-11eb-ac1d-c412f533dba1</td>\n",
              "      <td>2020-11-05 18:27:15</td>\n",
              "      <td></td>\n",
              "      <td></td>\n",
              "      <td>b832aac3-fcda-11ea-ac18-c412f533dba1</td>\n",
              "      <td>ffa2180f-1f72-11eb-ac1d-c412f533dba1</td>\n",
              "    </tr>\n",
              "    <tr>\n",
              "      <th>76542</th>\n",
              "      <td>NaN</td>\n",
              "      <td>NaT</td>\n",
              "      <td>NaN</td>\n",
              "      <td>ffaa0815-16c4-11eb-ac1d-c412f533dba1</td>\n",
              "      <td>2020-10-25 17:21:33</td>\n",
              "      <td></td>\n",
              "      <td></td>\n",
              "      <td>5dd88f32-6501-11ea-abf3-c412f533dba1</td>\n",
              "      <td>ffaa0816-16c4-11eb-ac1d-c412f533dba1</td>\n",
              "    </tr>\n",
              "  </tbody>\n",
              "</table>\n",
              "<p>76543 rows × 9 columns</p>\n",
              "</div>"
            ],
            "text/plain": [
              "                                  client_id  ...                           l_client_id\n",
              "0      0001da7d-fcda-11ea-ac18-c412f533dba1  ...                                   NaN\n",
              "1      000a8743-9ae1-11e7-8114-c412f533dba1  ...                                   NaN\n",
              "2      000ae57e-2d48-11ea-abeb-c412f533dba1  ...                                   NaN\n",
              "3      00133cde-481c-11ea-abeb-c412f533dba1  ...                                   NaN\n",
              "4      00148d3f-07e6-11e8-812a-c412f533dba1  ...                                   NaN\n",
              "...                                     ...  ...                                   ...\n",
              "76538                                   NaN  ...  f3268586-0a45-11eb-ac1a-c412f533dba1\n",
              "76539                                   NaN  ...  78d56291-093f-11eb-ac1a-c412f533dba1\n",
              "76540                                   NaN  ...  2e4fbe67-12cb-11eb-ac1c-c412f533dba1\n",
              "76541                                   NaN  ...  ffa2180f-1f72-11eb-ac1d-c412f533dba1\n",
              "76542                                   NaN  ...  ffaa0816-16c4-11eb-ac1d-c412f533dba1\n",
              "\n",
              "[76543 rows x 9 columns]"
            ]
          },
          "metadata": {
            "tags": []
          },
          "execution_count": 128
        }
      ]
    },
    {
      "cell_type": "code",
      "metadata": {
        "id": "0MrZ-XSVrd-R"
      },
      "source": [
        "# df_cl.to_excel(\"/content/drive/MyDrive/some_data/df_cl.xlsx\")"
      ],
      "execution_count": 58,
      "outputs": []
    },
    {
      "cell_type": "markdown",
      "metadata": {
        "id": "l88okO0uurpd"
      },
      "source": [
        "____________\n",
        "\n",
        "Присоединяем df_managers по ключам менеджеров:"
      ]
    },
    {
      "cell_type": "code",
      "metadata": {
        "id": "Mx1rSM_Xm7C4"
      },
      "source": [
        "df_clm = df_cl.merge(df_managers, left_on=\"l_manager_id_y\", right_on=\"manager_id\", how=\"outer\", sort=False)"
      ],
      "execution_count": 129,
      "outputs": []
    },
    {
      "cell_type": "code",
      "metadata": {
        "colab": {
          "base_uri": "https://localhost:8080/",
          "height": 414
        },
        "id": "qZ5Vijbqo5wC",
        "outputId": "902236cc-8d96-4184-c52f-d2896caa4059"
      },
      "source": [
        "df_clm"
      ],
      "execution_count": 130,
      "outputs": [
        {
          "output_type": "execute_result",
          "data": {
            "text/html": [
              "<div>\n",
              "<style scoped>\n",
              "    .dataframe tbody tr th:only-of-type {\n",
              "        vertical-align: middle;\n",
              "    }\n",
              "\n",
              "    .dataframe tbody tr th {\n",
              "        vertical-align: top;\n",
              "    }\n",
              "\n",
              "    .dataframe thead th {\n",
              "        text-align: right;\n",
              "    }\n",
              "</style>\n",
              "<table border=\"1\" class=\"dataframe\">\n",
              "  <thead>\n",
              "    <tr style=\"text-align: right;\">\n",
              "      <th></th>\n",
              "      <th>client_id</th>\n",
              "      <th>created_at_x</th>\n",
              "      <th>l_manager_id_x</th>\n",
              "      <th>lead_id</th>\n",
              "      <th>created_at_y</th>\n",
              "      <th>d_utm_medium</th>\n",
              "      <th>d_utm_source</th>\n",
              "      <th>l_manager_id_y</th>\n",
              "      <th>l_client_id</th>\n",
              "      <th>manager_id</th>\n",
              "      <th>d_manager</th>\n",
              "      <th>d_club</th>\n",
              "    </tr>\n",
              "  </thead>\n",
              "  <tbody>\n",
              "    <tr>\n",
              "      <th>0</th>\n",
              "      <td>0001da7d-fcda-11ea-ac18-c412f533dba1</td>\n",
              "      <td>2020-09-22 17:46:23</td>\n",
              "      <td>9a87c608-52dc-11ea-abeb-c412f533dba1</td>\n",
              "      <td>NaN</td>\n",
              "      <td>NaT</td>\n",
              "      <td>NaN</td>\n",
              "      <td>NaN</td>\n",
              "      <td>NaN</td>\n",
              "      <td>NaN</td>\n",
              "      <td>NaN</td>\n",
              "      <td>NaN</td>\n",
              "      <td>NaN</td>\n",
              "    </tr>\n",
              "    <tr>\n",
              "      <th>1</th>\n",
              "      <td>000a8743-9ae1-11e7-8114-c412f533dba1</td>\n",
              "      <td>2017-09-16 00:00:00</td>\n",
              "      <td>ad52c7a8-a752-11e7-8115-c412f533dba1</td>\n",
              "      <td>NaN</td>\n",
              "      <td>NaT</td>\n",
              "      <td>NaN</td>\n",
              "      <td>NaN</td>\n",
              "      <td>NaN</td>\n",
              "      <td>NaN</td>\n",
              "      <td>NaN</td>\n",
              "      <td>NaN</td>\n",
              "      <td>NaN</td>\n",
              "    </tr>\n",
              "    <tr>\n",
              "      <th>2</th>\n",
              "      <td>000ae57e-2d48-11ea-abeb-c412f533dba1</td>\n",
              "      <td>2020-01-02 14:08:56</td>\n",
              "      <td>43756fa4-57a0-11e9-ab9a-c412f533dba1</td>\n",
              "      <td>NaN</td>\n",
              "      <td>NaT</td>\n",
              "      <td>NaN</td>\n",
              "      <td>NaN</td>\n",
              "      <td>NaN</td>\n",
              "      <td>NaN</td>\n",
              "      <td>NaN</td>\n",
              "      <td>NaN</td>\n",
              "      <td>NaN</td>\n",
              "    </tr>\n",
              "    <tr>\n",
              "      <th>3</th>\n",
              "      <td>00133cde-481c-11ea-abeb-c412f533dba1</td>\n",
              "      <td>2020-02-05 17:25:13</td>\n",
              "      <td>9a87c608-52dc-11ea-abeb-c412f533dba1</td>\n",
              "      <td>NaN</td>\n",
              "      <td>NaT</td>\n",
              "      <td>NaN</td>\n",
              "      <td>NaN</td>\n",
              "      <td>NaN</td>\n",
              "      <td>NaN</td>\n",
              "      <td>NaN</td>\n",
              "      <td>NaN</td>\n",
              "      <td>NaN</td>\n",
              "    </tr>\n",
              "    <tr>\n",
              "      <th>4</th>\n",
              "      <td>00148d3f-07e6-11e8-812a-c412f533dba1</td>\n",
              "      <td>2018-02-02 00:00:00</td>\n",
              "      <td>abed5496-ca88-11e9-abb8-c412f533dba1</td>\n",
              "      <td>NaN</td>\n",
              "      <td>NaT</td>\n",
              "      <td>NaN</td>\n",
              "      <td>NaN</td>\n",
              "      <td>NaN</td>\n",
              "      <td>NaN</td>\n",
              "      <td>NaN</td>\n",
              "      <td>NaN</td>\n",
              "      <td>NaN</td>\n",
              "    </tr>\n",
              "    <tr>\n",
              "      <th>...</th>\n",
              "      <td>...</td>\n",
              "      <td>...</td>\n",
              "      <td>...</td>\n",
              "      <td>...</td>\n",
              "      <td>...</td>\n",
              "      <td>...</td>\n",
              "      <td>...</td>\n",
              "      <td>...</td>\n",
              "      <td>...</td>\n",
              "      <td>...</td>\n",
              "      <td>...</td>\n",
              "      <td>...</td>\n",
              "    </tr>\n",
              "    <tr>\n",
              "      <th>76539</th>\n",
              "      <td>NaN</td>\n",
              "      <td>NaT</td>\n",
              "      <td>NaN</td>\n",
              "      <td>7b16ce91-25cb-11eb-ac1d-c412f533dba1</td>\n",
              "      <td>2020-11-13 20:15:44</td>\n",
              "      <td></td>\n",
              "      <td></td>\n",
              "      <td>994accfd-03e6-11eb-ac18-c412f533dba1</td>\n",
              "      <td>5553ddfc-27d1-11eb-ac1f-c412f533dba1</td>\n",
              "      <td>NaN</td>\n",
              "      <td>NaN</td>\n",
              "      <td>NaN</td>\n",
              "    </tr>\n",
              "    <tr>\n",
              "      <th>76540</th>\n",
              "      <td>NaN</td>\n",
              "      <td>NaT</td>\n",
              "      <td>NaN</td>\n",
              "      <td>7dd69b9a-0d24-11eb-ac1a-c412f533dba1</td>\n",
              "      <td>2020-10-13 11:19:55</td>\n",
              "      <td></td>\n",
              "      <td></td>\n",
              "      <td>31298620-0355-11eb-ac18-c412f533dba1</td>\n",
              "      <td>76d55455-0d24-11eb-ac1a-c412f533dba1</td>\n",
              "      <td>NaN</td>\n",
              "      <td>NaN</td>\n",
              "      <td>NaN</td>\n",
              "    </tr>\n",
              "    <tr>\n",
              "      <th>76541</th>\n",
              "      <td>NaN</td>\n",
              "      <td>NaT</td>\n",
              "      <td>NaN</td>\n",
              "      <td>88f7896c-1a92-11eb-ac1d-c412f533dba1</td>\n",
              "      <td>2020-10-30 13:30:24</td>\n",
              "      <td></td>\n",
              "      <td></td>\n",
              "      <td>31d3f905-0c7c-11eb-ac1a-c412f533dba1</td>\n",
              "      <td>88f7896d-1a92-11eb-ac1d-c412f533dba1</td>\n",
              "      <td>NaN</td>\n",
              "      <td>NaN</td>\n",
              "      <td>NaN</td>\n",
              "    </tr>\n",
              "    <tr>\n",
              "      <th>76542</th>\n",
              "      <td>NaN</td>\n",
              "      <td>NaT</td>\n",
              "      <td>NaN</td>\n",
              "      <td>f9be181c-0d10-11eb-ac1a-c412f533dba1</td>\n",
              "      <td>2020-10-13 09:00:13</td>\n",
              "      <td>cpc</td>\n",
              "      <td>google</td>\n",
              "      <td>d6a49e22-f74f-11ea-ac18-c412f533dba1</td>\n",
              "      <td>a601b931-0d38-11eb-ac1a-c412f533dba1</td>\n",
              "      <td>NaN</td>\n",
              "      <td>NaN</td>\n",
              "      <td>NaN</td>\n",
              "    </tr>\n",
              "    <tr>\n",
              "      <th>76543</th>\n",
              "      <td>NaN</td>\n",
              "      <td>NaT</td>\n",
              "      <td>NaN</td>\n",
              "      <td>NaN</td>\n",
              "      <td>NaT</td>\n",
              "      <td>NaN</td>\n",
              "      <td>NaN</td>\n",
              "      <td>NaN</td>\n",
              "      <td>NaN</td>\n",
              "      <td>f44596c6-12cd-11eb-ac1c-c412f533dba1</td>\n",
              "      <td>manager #6</td>\n",
              "      <td>club #2</td>\n",
              "    </tr>\n",
              "  </tbody>\n",
              "</table>\n",
              "<p>76544 rows × 12 columns</p>\n",
              "</div>"
            ],
            "text/plain": [
              "                                  client_id  ...   d_club\n",
              "0      0001da7d-fcda-11ea-ac18-c412f533dba1  ...      NaN\n",
              "1      000a8743-9ae1-11e7-8114-c412f533dba1  ...      NaN\n",
              "2      000ae57e-2d48-11ea-abeb-c412f533dba1  ...      NaN\n",
              "3      00133cde-481c-11ea-abeb-c412f533dba1  ...      NaN\n",
              "4      00148d3f-07e6-11e8-812a-c412f533dba1  ...      NaN\n",
              "...                                     ...  ...      ...\n",
              "76539                                   NaN  ...      NaN\n",
              "76540                                   NaN  ...      NaN\n",
              "76541                                   NaN  ...      NaN\n",
              "76542                                   NaN  ...      NaN\n",
              "76543                                   NaN  ...  club #2\n",
              "\n",
              "[76544 rows x 12 columns]"
            ]
          },
          "metadata": {
            "tags": []
          },
          "execution_count": 130
        }
      ]
    },
    {
      "cell_type": "markdown",
      "metadata": {
        "id": "LP9dKlOPw3_g"
      },
      "source": [
        "Удалим строку с менеджером без продаж."
      ]
    },
    {
      "cell_type": "code",
      "metadata": {
        "id": "h3V8eeHMwySF"
      },
      "source": [
        "df_clm = df_clm.drop([76543], axis=0)"
      ],
      "execution_count": 131,
      "outputs": []
    },
    {
      "cell_type": "code",
      "metadata": {
        "colab": {
          "base_uri": "https://localhost:8080/",
          "height": 414
        },
        "id": "Sq_blsIc5r5M",
        "outputId": "fe973ae8-95e3-4c88-da62-1a17e1786670"
      },
      "source": [
        "df_clm"
      ],
      "execution_count": 132,
      "outputs": [
        {
          "output_type": "execute_result",
          "data": {
            "text/html": [
              "<div>\n",
              "<style scoped>\n",
              "    .dataframe tbody tr th:only-of-type {\n",
              "        vertical-align: middle;\n",
              "    }\n",
              "\n",
              "    .dataframe tbody tr th {\n",
              "        vertical-align: top;\n",
              "    }\n",
              "\n",
              "    .dataframe thead th {\n",
              "        text-align: right;\n",
              "    }\n",
              "</style>\n",
              "<table border=\"1\" class=\"dataframe\">\n",
              "  <thead>\n",
              "    <tr style=\"text-align: right;\">\n",
              "      <th></th>\n",
              "      <th>client_id</th>\n",
              "      <th>created_at_x</th>\n",
              "      <th>l_manager_id_x</th>\n",
              "      <th>lead_id</th>\n",
              "      <th>created_at_y</th>\n",
              "      <th>d_utm_medium</th>\n",
              "      <th>d_utm_source</th>\n",
              "      <th>l_manager_id_y</th>\n",
              "      <th>l_client_id</th>\n",
              "      <th>manager_id</th>\n",
              "      <th>d_manager</th>\n",
              "      <th>d_club</th>\n",
              "    </tr>\n",
              "  </thead>\n",
              "  <tbody>\n",
              "    <tr>\n",
              "      <th>0</th>\n",
              "      <td>0001da7d-fcda-11ea-ac18-c412f533dba1</td>\n",
              "      <td>2020-09-22 17:46:23</td>\n",
              "      <td>9a87c608-52dc-11ea-abeb-c412f533dba1</td>\n",
              "      <td>NaN</td>\n",
              "      <td>NaT</td>\n",
              "      <td>NaN</td>\n",
              "      <td>NaN</td>\n",
              "      <td>NaN</td>\n",
              "      <td>NaN</td>\n",
              "      <td>NaN</td>\n",
              "      <td>NaN</td>\n",
              "      <td>NaN</td>\n",
              "    </tr>\n",
              "    <tr>\n",
              "      <th>1</th>\n",
              "      <td>000a8743-9ae1-11e7-8114-c412f533dba1</td>\n",
              "      <td>2017-09-16 00:00:00</td>\n",
              "      <td>ad52c7a8-a752-11e7-8115-c412f533dba1</td>\n",
              "      <td>NaN</td>\n",
              "      <td>NaT</td>\n",
              "      <td>NaN</td>\n",
              "      <td>NaN</td>\n",
              "      <td>NaN</td>\n",
              "      <td>NaN</td>\n",
              "      <td>NaN</td>\n",
              "      <td>NaN</td>\n",
              "      <td>NaN</td>\n",
              "    </tr>\n",
              "    <tr>\n",
              "      <th>2</th>\n",
              "      <td>000ae57e-2d48-11ea-abeb-c412f533dba1</td>\n",
              "      <td>2020-01-02 14:08:56</td>\n",
              "      <td>43756fa4-57a0-11e9-ab9a-c412f533dba1</td>\n",
              "      <td>NaN</td>\n",
              "      <td>NaT</td>\n",
              "      <td>NaN</td>\n",
              "      <td>NaN</td>\n",
              "      <td>NaN</td>\n",
              "      <td>NaN</td>\n",
              "      <td>NaN</td>\n",
              "      <td>NaN</td>\n",
              "      <td>NaN</td>\n",
              "    </tr>\n",
              "    <tr>\n",
              "      <th>3</th>\n",
              "      <td>00133cde-481c-11ea-abeb-c412f533dba1</td>\n",
              "      <td>2020-02-05 17:25:13</td>\n",
              "      <td>9a87c608-52dc-11ea-abeb-c412f533dba1</td>\n",
              "      <td>NaN</td>\n",
              "      <td>NaT</td>\n",
              "      <td>NaN</td>\n",
              "      <td>NaN</td>\n",
              "      <td>NaN</td>\n",
              "      <td>NaN</td>\n",
              "      <td>NaN</td>\n",
              "      <td>NaN</td>\n",
              "      <td>NaN</td>\n",
              "    </tr>\n",
              "    <tr>\n",
              "      <th>4</th>\n",
              "      <td>00148d3f-07e6-11e8-812a-c412f533dba1</td>\n",
              "      <td>2018-02-02 00:00:00</td>\n",
              "      <td>abed5496-ca88-11e9-abb8-c412f533dba1</td>\n",
              "      <td>NaN</td>\n",
              "      <td>NaT</td>\n",
              "      <td>NaN</td>\n",
              "      <td>NaN</td>\n",
              "      <td>NaN</td>\n",
              "      <td>NaN</td>\n",
              "      <td>NaN</td>\n",
              "      <td>NaN</td>\n",
              "      <td>NaN</td>\n",
              "    </tr>\n",
              "    <tr>\n",
              "      <th>...</th>\n",
              "      <td>...</td>\n",
              "      <td>...</td>\n",
              "      <td>...</td>\n",
              "      <td>...</td>\n",
              "      <td>...</td>\n",
              "      <td>...</td>\n",
              "      <td>...</td>\n",
              "      <td>...</td>\n",
              "      <td>...</td>\n",
              "      <td>...</td>\n",
              "      <td>...</td>\n",
              "      <td>...</td>\n",
              "    </tr>\n",
              "    <tr>\n",
              "      <th>76538</th>\n",
              "      <td>NaN</td>\n",
              "      <td>NaT</td>\n",
              "      <td>NaN</td>\n",
              "      <td>623dbf3c-2053-11eb-ac1d-c412f533dba1</td>\n",
              "      <td>2020-11-06 21:13:27</td>\n",
              "      <td></td>\n",
              "      <td></td>\n",
              "      <td>997dc1c9-a85e-11e9-abb0-c412f533dba1</td>\n",
              "      <td>623dbf3d-2053-11eb-ac1d-c412f533dba1</td>\n",
              "      <td>NaN</td>\n",
              "      <td>NaN</td>\n",
              "      <td>NaN</td>\n",
              "    </tr>\n",
              "    <tr>\n",
              "      <th>76539</th>\n",
              "      <td>NaN</td>\n",
              "      <td>NaT</td>\n",
              "      <td>NaN</td>\n",
              "      <td>7b16ce91-25cb-11eb-ac1d-c412f533dba1</td>\n",
              "      <td>2020-11-13 20:15:44</td>\n",
              "      <td></td>\n",
              "      <td></td>\n",
              "      <td>994accfd-03e6-11eb-ac18-c412f533dba1</td>\n",
              "      <td>5553ddfc-27d1-11eb-ac1f-c412f533dba1</td>\n",
              "      <td>NaN</td>\n",
              "      <td>NaN</td>\n",
              "      <td>NaN</td>\n",
              "    </tr>\n",
              "    <tr>\n",
              "      <th>76540</th>\n",
              "      <td>NaN</td>\n",
              "      <td>NaT</td>\n",
              "      <td>NaN</td>\n",
              "      <td>7dd69b9a-0d24-11eb-ac1a-c412f533dba1</td>\n",
              "      <td>2020-10-13 11:19:55</td>\n",
              "      <td></td>\n",
              "      <td></td>\n",
              "      <td>31298620-0355-11eb-ac18-c412f533dba1</td>\n",
              "      <td>76d55455-0d24-11eb-ac1a-c412f533dba1</td>\n",
              "      <td>NaN</td>\n",
              "      <td>NaN</td>\n",
              "      <td>NaN</td>\n",
              "    </tr>\n",
              "    <tr>\n",
              "      <th>76541</th>\n",
              "      <td>NaN</td>\n",
              "      <td>NaT</td>\n",
              "      <td>NaN</td>\n",
              "      <td>88f7896c-1a92-11eb-ac1d-c412f533dba1</td>\n",
              "      <td>2020-10-30 13:30:24</td>\n",
              "      <td></td>\n",
              "      <td></td>\n",
              "      <td>31d3f905-0c7c-11eb-ac1a-c412f533dba1</td>\n",
              "      <td>88f7896d-1a92-11eb-ac1d-c412f533dba1</td>\n",
              "      <td>NaN</td>\n",
              "      <td>NaN</td>\n",
              "      <td>NaN</td>\n",
              "    </tr>\n",
              "    <tr>\n",
              "      <th>76542</th>\n",
              "      <td>NaN</td>\n",
              "      <td>NaT</td>\n",
              "      <td>NaN</td>\n",
              "      <td>f9be181c-0d10-11eb-ac1a-c412f533dba1</td>\n",
              "      <td>2020-10-13 09:00:13</td>\n",
              "      <td>cpc</td>\n",
              "      <td>google</td>\n",
              "      <td>d6a49e22-f74f-11ea-ac18-c412f533dba1</td>\n",
              "      <td>a601b931-0d38-11eb-ac1a-c412f533dba1</td>\n",
              "      <td>NaN</td>\n",
              "      <td>NaN</td>\n",
              "      <td>NaN</td>\n",
              "    </tr>\n",
              "  </tbody>\n",
              "</table>\n",
              "<p>76543 rows × 12 columns</p>\n",
              "</div>"
            ],
            "text/plain": [
              "                                  client_id  ... d_club\n",
              "0      0001da7d-fcda-11ea-ac18-c412f533dba1  ...    NaN\n",
              "1      000a8743-9ae1-11e7-8114-c412f533dba1  ...    NaN\n",
              "2      000ae57e-2d48-11ea-abeb-c412f533dba1  ...    NaN\n",
              "3      00133cde-481c-11ea-abeb-c412f533dba1  ...    NaN\n",
              "4      00148d3f-07e6-11e8-812a-c412f533dba1  ...    NaN\n",
              "...                                     ...  ...    ...\n",
              "76538                                   NaN  ...    NaN\n",
              "76539                                   NaN  ...    NaN\n",
              "76540                                   NaN  ...    NaN\n",
              "76541                                   NaN  ...    NaN\n",
              "76542                                   NaN  ...    NaN\n",
              "\n",
              "[76543 rows x 12 columns]"
            ]
          },
          "metadata": {
            "tags": []
          },
          "execution_count": 132
        }
      ]
    },
    {
      "cell_type": "markdown",
      "metadata": {
        "id": "3OYuih7MvwDT"
      },
      "source": [
        "__________\n",
        "\n",
        "Добавляем df_transactions:"
      ]
    },
    {
      "cell_type": "code",
      "metadata": {
        "id": "KEYunAQFujOA"
      },
      "source": [
        "df_clmt = df_clm.merge(df_transactions, left_on=\"l_client_id\", right_on=\"lead_client_id\", how=\"outer\", sort=False)"
      ],
      "execution_count": 133,
      "outputs": []
    },
    {
      "cell_type": "code",
      "metadata": {
        "id": "Fqoxx8tdcY9x"
      },
      "source": [
        "df_clmt['m_real_amount'] = pd.to_numeric(df_clmt['m_real_amount'])"
      ],
      "execution_count": 134,
      "outputs": []
    },
    {
      "cell_type": "code",
      "metadata": {
        "colab": {
          "base_uri": "https://localhost:8080/",
          "height": 581
        },
        "id": "ls0wOUgpwFIZ",
        "outputId": "90dcfbda-ffde-415c-c6d0-49257206f8be"
      },
      "source": [
        "df_clmt"
      ],
      "execution_count": 135,
      "outputs": [
        {
          "output_type": "execute_result",
          "data": {
            "text/html": [
              "<div>\n",
              "<style scoped>\n",
              "    .dataframe tbody tr th:only-of-type {\n",
              "        vertical-align: middle;\n",
              "    }\n",
              "\n",
              "    .dataframe tbody tr th {\n",
              "        vertical-align: top;\n",
              "    }\n",
              "\n",
              "    .dataframe thead th {\n",
              "        text-align: right;\n",
              "    }\n",
              "</style>\n",
              "<table border=\"1\" class=\"dataframe\">\n",
              "  <thead>\n",
              "    <tr style=\"text-align: right;\">\n",
              "      <th></th>\n",
              "      <th>client_id</th>\n",
              "      <th>created_at_x</th>\n",
              "      <th>l_manager_id_x</th>\n",
              "      <th>lead_id</th>\n",
              "      <th>created_at_y</th>\n",
              "      <th>d_utm_medium</th>\n",
              "      <th>d_utm_source</th>\n",
              "      <th>l_manager_id_y</th>\n",
              "      <th>l_client_id</th>\n",
              "      <th>manager_id</th>\n",
              "      <th>d_manager</th>\n",
              "      <th>d_club</th>\n",
              "      <th>transaction_id</th>\n",
              "      <th>created_at</th>\n",
              "      <th>m_real_amount</th>\n",
              "      <th>lead_client_id</th>\n",
              "    </tr>\n",
              "  </thead>\n",
              "  <tbody>\n",
              "    <tr>\n",
              "      <th>0</th>\n",
              "      <td>0001da7d-fcda-11ea-ac18-c412f533dba1</td>\n",
              "      <td>2020-09-22 17:46:23</td>\n",
              "      <td>9a87c608-52dc-11ea-abeb-c412f533dba1</td>\n",
              "      <td>NaN</td>\n",
              "      <td>NaT</td>\n",
              "      <td>NaN</td>\n",
              "      <td>NaN</td>\n",
              "      <td>NaN</td>\n",
              "      <td>NaN</td>\n",
              "      <td>NaN</td>\n",
              "      <td>NaN</td>\n",
              "      <td>NaN</td>\n",
              "      <td>NaN</td>\n",
              "      <td>NaT</td>\n",
              "      <td>NaN</td>\n",
              "      <td>NaN</td>\n",
              "    </tr>\n",
              "    <tr>\n",
              "      <th>1</th>\n",
              "      <td>000a8743-9ae1-11e7-8114-c412f533dba1</td>\n",
              "      <td>2017-09-16 00:00:00</td>\n",
              "      <td>ad52c7a8-a752-11e7-8115-c412f533dba1</td>\n",
              "      <td>NaN</td>\n",
              "      <td>NaT</td>\n",
              "      <td>NaN</td>\n",
              "      <td>NaN</td>\n",
              "      <td>NaN</td>\n",
              "      <td>NaN</td>\n",
              "      <td>NaN</td>\n",
              "      <td>NaN</td>\n",
              "      <td>NaN</td>\n",
              "      <td>NaN</td>\n",
              "      <td>NaT</td>\n",
              "      <td>NaN</td>\n",
              "      <td>NaN</td>\n",
              "    </tr>\n",
              "    <tr>\n",
              "      <th>2</th>\n",
              "      <td>000ae57e-2d48-11ea-abeb-c412f533dba1</td>\n",
              "      <td>2020-01-02 14:08:56</td>\n",
              "      <td>43756fa4-57a0-11e9-ab9a-c412f533dba1</td>\n",
              "      <td>NaN</td>\n",
              "      <td>NaT</td>\n",
              "      <td>NaN</td>\n",
              "      <td>NaN</td>\n",
              "      <td>NaN</td>\n",
              "      <td>NaN</td>\n",
              "      <td>NaN</td>\n",
              "      <td>NaN</td>\n",
              "      <td>NaN</td>\n",
              "      <td>NaN</td>\n",
              "      <td>NaT</td>\n",
              "      <td>NaN</td>\n",
              "      <td>NaN</td>\n",
              "    </tr>\n",
              "    <tr>\n",
              "      <th>3</th>\n",
              "      <td>00133cde-481c-11ea-abeb-c412f533dba1</td>\n",
              "      <td>2020-02-05 17:25:13</td>\n",
              "      <td>9a87c608-52dc-11ea-abeb-c412f533dba1</td>\n",
              "      <td>NaN</td>\n",
              "      <td>NaT</td>\n",
              "      <td>NaN</td>\n",
              "      <td>NaN</td>\n",
              "      <td>NaN</td>\n",
              "      <td>NaN</td>\n",
              "      <td>NaN</td>\n",
              "      <td>NaN</td>\n",
              "      <td>NaN</td>\n",
              "      <td>NaN</td>\n",
              "      <td>NaT</td>\n",
              "      <td>NaN</td>\n",
              "      <td>NaN</td>\n",
              "    </tr>\n",
              "    <tr>\n",
              "      <th>4</th>\n",
              "      <td>00148d3f-07e6-11e8-812a-c412f533dba1</td>\n",
              "      <td>2018-02-02 00:00:00</td>\n",
              "      <td>abed5496-ca88-11e9-abb8-c412f533dba1</td>\n",
              "      <td>NaN</td>\n",
              "      <td>NaT</td>\n",
              "      <td>NaN</td>\n",
              "      <td>NaN</td>\n",
              "      <td>NaN</td>\n",
              "      <td>NaN</td>\n",
              "      <td>NaN</td>\n",
              "      <td>NaN</td>\n",
              "      <td>NaN</td>\n",
              "      <td>NaN</td>\n",
              "      <td>NaT</td>\n",
              "      <td>NaN</td>\n",
              "      <td>NaN</td>\n",
              "    </tr>\n",
              "    <tr>\n",
              "      <th>...</th>\n",
              "      <td>...</td>\n",
              "      <td>...</td>\n",
              "      <td>...</td>\n",
              "      <td>...</td>\n",
              "      <td>...</td>\n",
              "      <td>...</td>\n",
              "      <td>...</td>\n",
              "      <td>...</td>\n",
              "      <td>...</td>\n",
              "      <td>...</td>\n",
              "      <td>...</td>\n",
              "      <td>...</td>\n",
              "      <td>...</td>\n",
              "      <td>...</td>\n",
              "      <td>...</td>\n",
              "      <td>...</td>\n",
              "    </tr>\n",
              "    <tr>\n",
              "      <th>104817</th>\n",
              "      <td>NaN</td>\n",
              "      <td>NaT</td>\n",
              "      <td>NaN</td>\n",
              "      <td>NaN</td>\n",
              "      <td>NaT</td>\n",
              "      <td>NaN</td>\n",
              "      <td>NaN</td>\n",
              "      <td>NaN</td>\n",
              "      <td>NaN</td>\n",
              "      <td>NaN</td>\n",
              "      <td>NaN</td>\n",
              "      <td>NaN</td>\n",
              "      <td>e22d08ce-11bf-41a2-be68-3308332f42a6</td>\n",
              "      <td>2020-01-07 08:00:59</td>\n",
              "      <td>0.0</td>\n",
              "      <td>befc3c0b-d5a3-11e9-abbe-c412f533dba1</td>\n",
              "    </tr>\n",
              "    <tr>\n",
              "      <th>104818</th>\n",
              "      <td>NaN</td>\n",
              "      <td>NaT</td>\n",
              "      <td>NaN</td>\n",
              "      <td>NaN</td>\n",
              "      <td>NaT</td>\n",
              "      <td>NaN</td>\n",
              "      <td>NaN</td>\n",
              "      <td>NaN</td>\n",
              "      <td>NaN</td>\n",
              "      <td>NaN</td>\n",
              "      <td>NaN</td>\n",
              "      <td>NaN</td>\n",
              "      <td>96a35b77-b3af-4d3b-be7b-2001cf8fb4f7</td>\n",
              "      <td>2020-02-07 03:45:45</td>\n",
              "      <td>0.0</td>\n",
              "      <td>eef0ac0f-e919-11e9-abd7-c412f533dba1</td>\n",
              "    </tr>\n",
              "    <tr>\n",
              "      <th>104819</th>\n",
              "      <td>NaN</td>\n",
              "      <td>NaT</td>\n",
              "      <td>NaN</td>\n",
              "      <td>NaN</td>\n",
              "      <td>NaT</td>\n",
              "      <td>NaN</td>\n",
              "      <td>NaN</td>\n",
              "      <td>NaN</td>\n",
              "      <td>NaN</td>\n",
              "      <td>NaN</td>\n",
              "      <td>NaN</td>\n",
              "      <td>NaN</td>\n",
              "      <td>834b104c-b0d6-4dcd-bee4-20b9ce8dcae7</td>\n",
              "      <td>2020-01-23 03:45:34</td>\n",
              "      <td>0.0</td>\n",
              "      <td>7bac29e7-d5a7-11e9-abbe-c412f533dba1</td>\n",
              "    </tr>\n",
              "    <tr>\n",
              "      <th>104820</th>\n",
              "      <td>NaN</td>\n",
              "      <td>NaT</td>\n",
              "      <td>NaN</td>\n",
              "      <td>NaN</td>\n",
              "      <td>NaT</td>\n",
              "      <td>NaN</td>\n",
              "      <td>NaN</td>\n",
              "      <td>NaN</td>\n",
              "      <td>NaN</td>\n",
              "      <td>NaN</td>\n",
              "      <td>NaN</td>\n",
              "      <td>NaN</td>\n",
              "      <td>c64c03a7-b5b4-49f4-bf5f-268227e105ee</td>\n",
              "      <td>2020-01-23 03:45:36</td>\n",
              "      <td>0.0</td>\n",
              "      <td>760e1f4e-6fd8-11e7-80fc-c412f533dba1</td>\n",
              "    </tr>\n",
              "    <tr>\n",
              "      <th>104821</th>\n",
              "      <td>NaN</td>\n",
              "      <td>NaT</td>\n",
              "      <td>NaN</td>\n",
              "      <td>NaN</td>\n",
              "      <td>NaT</td>\n",
              "      <td>NaN</td>\n",
              "      <td>NaN</td>\n",
              "      <td>NaN</td>\n",
              "      <td>NaN</td>\n",
              "      <td>NaN</td>\n",
              "      <td>NaN</td>\n",
              "      <td>NaN</td>\n",
              "      <td>38c5f7e0-3dc1-48ba-bfed-fc08a7758d4e</td>\n",
              "      <td>2020-01-26 03:45:52</td>\n",
              "      <td>0.0</td>\n",
              "      <td>a9646c16-d5a2-11e9-abbe-c412f533dba1</td>\n",
              "    </tr>\n",
              "  </tbody>\n",
              "</table>\n",
              "<p>104822 rows × 16 columns</p>\n",
              "</div>"
            ],
            "text/plain": [
              "                                   client_id  ...                        lead_client_id\n",
              "0       0001da7d-fcda-11ea-ac18-c412f533dba1  ...                                   NaN\n",
              "1       000a8743-9ae1-11e7-8114-c412f533dba1  ...                                   NaN\n",
              "2       000ae57e-2d48-11ea-abeb-c412f533dba1  ...                                   NaN\n",
              "3       00133cde-481c-11ea-abeb-c412f533dba1  ...                                   NaN\n",
              "4       00148d3f-07e6-11e8-812a-c412f533dba1  ...                                   NaN\n",
              "...                                      ...  ...                                   ...\n",
              "104817                                   NaN  ...  befc3c0b-d5a3-11e9-abbe-c412f533dba1\n",
              "104818                                   NaN  ...  eef0ac0f-e919-11e9-abd7-c412f533dba1\n",
              "104819                                   NaN  ...  7bac29e7-d5a7-11e9-abbe-c412f533dba1\n",
              "104820                                   NaN  ...  760e1f4e-6fd8-11e7-80fc-c412f533dba1\n",
              "104821                                   NaN  ...  a9646c16-d5a2-11e9-abbe-c412f533dba1\n",
              "\n",
              "[104822 rows x 16 columns]"
            ]
          },
          "metadata": {
            "tags": []
          },
          "execution_count": 135
        }
      ]
    },
    {
      "cell_type": "code",
      "metadata": {
        "colab": {
          "base_uri": "https://localhost:8080/"
        },
        "id": "vkE4bA1g-4cG",
        "outputId": "63861cf6-a249-41f8-921d-63da766a3e8f"
      },
      "source": [
        "df_clmt.dtypes"
      ],
      "execution_count": 136,
      "outputs": [
        {
          "output_type": "execute_result",
          "data": {
            "text/plain": [
              "client_id                 object\n",
              "created_at_x      datetime64[ns]\n",
              "l_manager_id_x            object\n",
              "lead_id                   object\n",
              "created_at_y      datetime64[ns]\n",
              "d_utm_medium              object\n",
              "d_utm_source              object\n",
              "l_manager_id_y            object\n",
              "l_client_id               object\n",
              "manager_id                object\n",
              "d_manager                 object\n",
              "d_club                    object\n",
              "transaction_id            object\n",
              "created_at        datetime64[ns]\n",
              "m_real_amount            float64\n",
              "lead_client_id            object\n",
              "dtype: object"
            ]
          },
          "metadata": {
            "tags": []
          },
          "execution_count": 136
        }
      ]
    },
    {
      "cell_type": "code",
      "metadata": {
        "id": "98uo2j4aFZbY"
      },
      "source": [
        "# df_clmt.to_excel(\"/content/drive/MyDrive/some_data/df_clmt_ready.xlsx\")"
      ],
      "execution_count": 137,
      "outputs": []
    },
    {
      "cell_type": "markdown",
      "metadata": {
        "id": "5QY1hxptEuQP"
      },
      "source": [
        "__________\n",
        "Соединили таблицы, теперь начинаем работать.\n",
        "________"
      ]
    },
    {
      "cell_type": "markdown",
      "metadata": {
        "id": "ccTrt1Qw2jAE"
      },
      "source": [
        "Создадим столбцы с пометками о проверке на дроп и на старого клиента:"
      ]
    },
    {
      "cell_type": "code",
      "metadata": {
        "id": "r_FTVZGsFoKl"
      },
      "source": [
        "df_clmt[\"dropped\"] = df_clmt.l_client_id == \"00000000-0000-0000-0000-000000000000\""
      ],
      "execution_count": 138,
      "outputs": []
    },
    {
      "cell_type": "code",
      "metadata": {
        "id": "n8qZoda9FpLz"
      },
      "source": [
        "df_clmt[\"old\"] = df_clmt.l_client_id == df_clmt.client_id"
      ],
      "execution_count": 139,
      "outputs": []
    },
    {
      "cell_type": "code",
      "metadata": {
        "colab": {
          "base_uri": "https://localhost:8080/",
          "height": 581
        },
        "id": "HIkpieUUFpsr",
        "outputId": "4fdcc59f-d301-41af-e476-fdd01394e524"
      },
      "source": [
        "df_clmt"
      ],
      "execution_count": 140,
      "outputs": [
        {
          "output_type": "execute_result",
          "data": {
            "text/html": [
              "<div>\n",
              "<style scoped>\n",
              "    .dataframe tbody tr th:only-of-type {\n",
              "        vertical-align: middle;\n",
              "    }\n",
              "\n",
              "    .dataframe tbody tr th {\n",
              "        vertical-align: top;\n",
              "    }\n",
              "\n",
              "    .dataframe thead th {\n",
              "        text-align: right;\n",
              "    }\n",
              "</style>\n",
              "<table border=\"1\" class=\"dataframe\">\n",
              "  <thead>\n",
              "    <tr style=\"text-align: right;\">\n",
              "      <th></th>\n",
              "      <th>client_id</th>\n",
              "      <th>created_at_x</th>\n",
              "      <th>l_manager_id_x</th>\n",
              "      <th>lead_id</th>\n",
              "      <th>created_at_y</th>\n",
              "      <th>d_utm_medium</th>\n",
              "      <th>d_utm_source</th>\n",
              "      <th>l_manager_id_y</th>\n",
              "      <th>l_client_id</th>\n",
              "      <th>manager_id</th>\n",
              "      <th>d_manager</th>\n",
              "      <th>d_club</th>\n",
              "      <th>transaction_id</th>\n",
              "      <th>created_at</th>\n",
              "      <th>m_real_amount</th>\n",
              "      <th>lead_client_id</th>\n",
              "      <th>dropped</th>\n",
              "      <th>old</th>\n",
              "    </tr>\n",
              "  </thead>\n",
              "  <tbody>\n",
              "    <tr>\n",
              "      <th>0</th>\n",
              "      <td>0001da7d-fcda-11ea-ac18-c412f533dba1</td>\n",
              "      <td>2020-09-22 17:46:23</td>\n",
              "      <td>9a87c608-52dc-11ea-abeb-c412f533dba1</td>\n",
              "      <td>NaN</td>\n",
              "      <td>NaT</td>\n",
              "      <td>NaN</td>\n",
              "      <td>NaN</td>\n",
              "      <td>NaN</td>\n",
              "      <td>NaN</td>\n",
              "      <td>NaN</td>\n",
              "      <td>NaN</td>\n",
              "      <td>NaN</td>\n",
              "      <td>NaN</td>\n",
              "      <td>NaT</td>\n",
              "      <td>NaN</td>\n",
              "      <td>NaN</td>\n",
              "      <td>False</td>\n",
              "      <td>False</td>\n",
              "    </tr>\n",
              "    <tr>\n",
              "      <th>1</th>\n",
              "      <td>000a8743-9ae1-11e7-8114-c412f533dba1</td>\n",
              "      <td>2017-09-16 00:00:00</td>\n",
              "      <td>ad52c7a8-a752-11e7-8115-c412f533dba1</td>\n",
              "      <td>NaN</td>\n",
              "      <td>NaT</td>\n",
              "      <td>NaN</td>\n",
              "      <td>NaN</td>\n",
              "      <td>NaN</td>\n",
              "      <td>NaN</td>\n",
              "      <td>NaN</td>\n",
              "      <td>NaN</td>\n",
              "      <td>NaN</td>\n",
              "      <td>NaN</td>\n",
              "      <td>NaT</td>\n",
              "      <td>NaN</td>\n",
              "      <td>NaN</td>\n",
              "      <td>False</td>\n",
              "      <td>False</td>\n",
              "    </tr>\n",
              "    <tr>\n",
              "      <th>2</th>\n",
              "      <td>000ae57e-2d48-11ea-abeb-c412f533dba1</td>\n",
              "      <td>2020-01-02 14:08:56</td>\n",
              "      <td>43756fa4-57a0-11e9-ab9a-c412f533dba1</td>\n",
              "      <td>NaN</td>\n",
              "      <td>NaT</td>\n",
              "      <td>NaN</td>\n",
              "      <td>NaN</td>\n",
              "      <td>NaN</td>\n",
              "      <td>NaN</td>\n",
              "      <td>NaN</td>\n",
              "      <td>NaN</td>\n",
              "      <td>NaN</td>\n",
              "      <td>NaN</td>\n",
              "      <td>NaT</td>\n",
              "      <td>NaN</td>\n",
              "      <td>NaN</td>\n",
              "      <td>False</td>\n",
              "      <td>False</td>\n",
              "    </tr>\n",
              "    <tr>\n",
              "      <th>3</th>\n",
              "      <td>00133cde-481c-11ea-abeb-c412f533dba1</td>\n",
              "      <td>2020-02-05 17:25:13</td>\n",
              "      <td>9a87c608-52dc-11ea-abeb-c412f533dba1</td>\n",
              "      <td>NaN</td>\n",
              "      <td>NaT</td>\n",
              "      <td>NaN</td>\n",
              "      <td>NaN</td>\n",
              "      <td>NaN</td>\n",
              "      <td>NaN</td>\n",
              "      <td>NaN</td>\n",
              "      <td>NaN</td>\n",
              "      <td>NaN</td>\n",
              "      <td>NaN</td>\n",
              "      <td>NaT</td>\n",
              "      <td>NaN</td>\n",
              "      <td>NaN</td>\n",
              "      <td>False</td>\n",
              "      <td>False</td>\n",
              "    </tr>\n",
              "    <tr>\n",
              "      <th>4</th>\n",
              "      <td>00148d3f-07e6-11e8-812a-c412f533dba1</td>\n",
              "      <td>2018-02-02 00:00:00</td>\n",
              "      <td>abed5496-ca88-11e9-abb8-c412f533dba1</td>\n",
              "      <td>NaN</td>\n",
              "      <td>NaT</td>\n",
              "      <td>NaN</td>\n",
              "      <td>NaN</td>\n",
              "      <td>NaN</td>\n",
              "      <td>NaN</td>\n",
              "      <td>NaN</td>\n",
              "      <td>NaN</td>\n",
              "      <td>NaN</td>\n",
              "      <td>NaN</td>\n",
              "      <td>NaT</td>\n",
              "      <td>NaN</td>\n",
              "      <td>NaN</td>\n",
              "      <td>False</td>\n",
              "      <td>False</td>\n",
              "    </tr>\n",
              "    <tr>\n",
              "      <th>...</th>\n",
              "      <td>...</td>\n",
              "      <td>...</td>\n",
              "      <td>...</td>\n",
              "      <td>...</td>\n",
              "      <td>...</td>\n",
              "      <td>...</td>\n",
              "      <td>...</td>\n",
              "      <td>...</td>\n",
              "      <td>...</td>\n",
              "      <td>...</td>\n",
              "      <td>...</td>\n",
              "      <td>...</td>\n",
              "      <td>...</td>\n",
              "      <td>...</td>\n",
              "      <td>...</td>\n",
              "      <td>...</td>\n",
              "      <td>...</td>\n",
              "      <td>...</td>\n",
              "    </tr>\n",
              "    <tr>\n",
              "      <th>104817</th>\n",
              "      <td>NaN</td>\n",
              "      <td>NaT</td>\n",
              "      <td>NaN</td>\n",
              "      <td>NaN</td>\n",
              "      <td>NaT</td>\n",
              "      <td>NaN</td>\n",
              "      <td>NaN</td>\n",
              "      <td>NaN</td>\n",
              "      <td>NaN</td>\n",
              "      <td>NaN</td>\n",
              "      <td>NaN</td>\n",
              "      <td>NaN</td>\n",
              "      <td>e22d08ce-11bf-41a2-be68-3308332f42a6</td>\n",
              "      <td>2020-01-07 08:00:59</td>\n",
              "      <td>0.0</td>\n",
              "      <td>befc3c0b-d5a3-11e9-abbe-c412f533dba1</td>\n",
              "      <td>False</td>\n",
              "      <td>False</td>\n",
              "    </tr>\n",
              "    <tr>\n",
              "      <th>104818</th>\n",
              "      <td>NaN</td>\n",
              "      <td>NaT</td>\n",
              "      <td>NaN</td>\n",
              "      <td>NaN</td>\n",
              "      <td>NaT</td>\n",
              "      <td>NaN</td>\n",
              "      <td>NaN</td>\n",
              "      <td>NaN</td>\n",
              "      <td>NaN</td>\n",
              "      <td>NaN</td>\n",
              "      <td>NaN</td>\n",
              "      <td>NaN</td>\n",
              "      <td>96a35b77-b3af-4d3b-be7b-2001cf8fb4f7</td>\n",
              "      <td>2020-02-07 03:45:45</td>\n",
              "      <td>0.0</td>\n",
              "      <td>eef0ac0f-e919-11e9-abd7-c412f533dba1</td>\n",
              "      <td>False</td>\n",
              "      <td>False</td>\n",
              "    </tr>\n",
              "    <tr>\n",
              "      <th>104819</th>\n",
              "      <td>NaN</td>\n",
              "      <td>NaT</td>\n",
              "      <td>NaN</td>\n",
              "      <td>NaN</td>\n",
              "      <td>NaT</td>\n",
              "      <td>NaN</td>\n",
              "      <td>NaN</td>\n",
              "      <td>NaN</td>\n",
              "      <td>NaN</td>\n",
              "      <td>NaN</td>\n",
              "      <td>NaN</td>\n",
              "      <td>NaN</td>\n",
              "      <td>834b104c-b0d6-4dcd-bee4-20b9ce8dcae7</td>\n",
              "      <td>2020-01-23 03:45:34</td>\n",
              "      <td>0.0</td>\n",
              "      <td>7bac29e7-d5a7-11e9-abbe-c412f533dba1</td>\n",
              "      <td>False</td>\n",
              "      <td>False</td>\n",
              "    </tr>\n",
              "    <tr>\n",
              "      <th>104820</th>\n",
              "      <td>NaN</td>\n",
              "      <td>NaT</td>\n",
              "      <td>NaN</td>\n",
              "      <td>NaN</td>\n",
              "      <td>NaT</td>\n",
              "      <td>NaN</td>\n",
              "      <td>NaN</td>\n",
              "      <td>NaN</td>\n",
              "      <td>NaN</td>\n",
              "      <td>NaN</td>\n",
              "      <td>NaN</td>\n",
              "      <td>NaN</td>\n",
              "      <td>c64c03a7-b5b4-49f4-bf5f-268227e105ee</td>\n",
              "      <td>2020-01-23 03:45:36</td>\n",
              "      <td>0.0</td>\n",
              "      <td>760e1f4e-6fd8-11e7-80fc-c412f533dba1</td>\n",
              "      <td>False</td>\n",
              "      <td>False</td>\n",
              "    </tr>\n",
              "    <tr>\n",
              "      <th>104821</th>\n",
              "      <td>NaN</td>\n",
              "      <td>NaT</td>\n",
              "      <td>NaN</td>\n",
              "      <td>NaN</td>\n",
              "      <td>NaT</td>\n",
              "      <td>NaN</td>\n",
              "      <td>NaN</td>\n",
              "      <td>NaN</td>\n",
              "      <td>NaN</td>\n",
              "      <td>NaN</td>\n",
              "      <td>NaN</td>\n",
              "      <td>NaN</td>\n",
              "      <td>38c5f7e0-3dc1-48ba-bfed-fc08a7758d4e</td>\n",
              "      <td>2020-01-26 03:45:52</td>\n",
              "      <td>0.0</td>\n",
              "      <td>a9646c16-d5a2-11e9-abbe-c412f533dba1</td>\n",
              "      <td>False</td>\n",
              "      <td>False</td>\n",
              "    </tr>\n",
              "  </tbody>\n",
              "</table>\n",
              "<p>104822 rows × 18 columns</p>\n",
              "</div>"
            ],
            "text/plain": [
              "                                   client_id  ...    old\n",
              "0       0001da7d-fcda-11ea-ac18-c412f533dba1  ...  False\n",
              "1       000a8743-9ae1-11e7-8114-c412f533dba1  ...  False\n",
              "2       000ae57e-2d48-11ea-abeb-c412f533dba1  ...  False\n",
              "3       00133cde-481c-11ea-abeb-c412f533dba1  ...  False\n",
              "4       00148d3f-07e6-11e8-812a-c412f533dba1  ...  False\n",
              "...                                      ...  ...    ...\n",
              "104817                                   NaN  ...  False\n",
              "104818                                   NaN  ...  False\n",
              "104819                                   NaN  ...  False\n",
              "104820                                   NaN  ...  False\n",
              "104821                                   NaN  ...  False\n",
              "\n",
              "[104822 rows x 18 columns]"
            ]
          },
          "metadata": {
            "tags": []
          },
          "execution_count": 140
        }
      ]
    },
    {
      "cell_type": "markdown",
      "metadata": {
        "id": "PwSq3w2W2xCH"
      },
      "source": [
        "Создадим столбец с замером разницы между оплатой и временем регистрации заказа:"
      ]
    },
    {
      "cell_type": "code",
      "metadata": {
        "id": "QoAfsMwjoRof"
      },
      "source": [
        "df_clmt[\"fast_buy\"] = df_clmt[\"created_at_y\"] - df_clmt[\"created_at\"]"
      ],
      "execution_count": 141,
      "outputs": []
    },
    {
      "cell_type": "code",
      "metadata": {
        "id": "O0CTiuYmvGlD"
      },
      "source": [
        "df_clmt[\"f_buy\"] = df_clmt.fast_buy.dt.days"
      ],
      "execution_count": 142,
      "outputs": []
    },
    {
      "cell_type": "code",
      "metadata": {
        "colab": {
          "base_uri": "https://localhost:8080/",
          "height": 581
        },
        "id": "VMrXREPmo2L3",
        "outputId": "f97c9fb9-0dd2-4655-dd2a-4fd2f1e2cd25"
      },
      "source": [
        "df_clmt"
      ],
      "execution_count": 143,
      "outputs": [
        {
          "output_type": "execute_result",
          "data": {
            "text/html": [
              "<div>\n",
              "<style scoped>\n",
              "    .dataframe tbody tr th:only-of-type {\n",
              "        vertical-align: middle;\n",
              "    }\n",
              "\n",
              "    .dataframe tbody tr th {\n",
              "        vertical-align: top;\n",
              "    }\n",
              "\n",
              "    .dataframe thead th {\n",
              "        text-align: right;\n",
              "    }\n",
              "</style>\n",
              "<table border=\"1\" class=\"dataframe\">\n",
              "  <thead>\n",
              "    <tr style=\"text-align: right;\">\n",
              "      <th></th>\n",
              "      <th>client_id</th>\n",
              "      <th>created_at_x</th>\n",
              "      <th>l_manager_id_x</th>\n",
              "      <th>lead_id</th>\n",
              "      <th>created_at_y</th>\n",
              "      <th>d_utm_medium</th>\n",
              "      <th>d_utm_source</th>\n",
              "      <th>l_manager_id_y</th>\n",
              "      <th>l_client_id</th>\n",
              "      <th>manager_id</th>\n",
              "      <th>d_manager</th>\n",
              "      <th>d_club</th>\n",
              "      <th>transaction_id</th>\n",
              "      <th>created_at</th>\n",
              "      <th>m_real_amount</th>\n",
              "      <th>lead_client_id</th>\n",
              "      <th>dropped</th>\n",
              "      <th>old</th>\n",
              "      <th>fast_buy</th>\n",
              "      <th>f_buy</th>\n",
              "    </tr>\n",
              "  </thead>\n",
              "  <tbody>\n",
              "    <tr>\n",
              "      <th>0</th>\n",
              "      <td>0001da7d-fcda-11ea-ac18-c412f533dba1</td>\n",
              "      <td>2020-09-22 17:46:23</td>\n",
              "      <td>9a87c608-52dc-11ea-abeb-c412f533dba1</td>\n",
              "      <td>NaN</td>\n",
              "      <td>NaT</td>\n",
              "      <td>NaN</td>\n",
              "      <td>NaN</td>\n",
              "      <td>NaN</td>\n",
              "      <td>NaN</td>\n",
              "      <td>NaN</td>\n",
              "      <td>NaN</td>\n",
              "      <td>NaN</td>\n",
              "      <td>NaN</td>\n",
              "      <td>NaT</td>\n",
              "      <td>NaN</td>\n",
              "      <td>NaN</td>\n",
              "      <td>False</td>\n",
              "      <td>False</td>\n",
              "      <td>NaT</td>\n",
              "      <td>NaN</td>\n",
              "    </tr>\n",
              "    <tr>\n",
              "      <th>1</th>\n",
              "      <td>000a8743-9ae1-11e7-8114-c412f533dba1</td>\n",
              "      <td>2017-09-16 00:00:00</td>\n",
              "      <td>ad52c7a8-a752-11e7-8115-c412f533dba1</td>\n",
              "      <td>NaN</td>\n",
              "      <td>NaT</td>\n",
              "      <td>NaN</td>\n",
              "      <td>NaN</td>\n",
              "      <td>NaN</td>\n",
              "      <td>NaN</td>\n",
              "      <td>NaN</td>\n",
              "      <td>NaN</td>\n",
              "      <td>NaN</td>\n",
              "      <td>NaN</td>\n",
              "      <td>NaT</td>\n",
              "      <td>NaN</td>\n",
              "      <td>NaN</td>\n",
              "      <td>False</td>\n",
              "      <td>False</td>\n",
              "      <td>NaT</td>\n",
              "      <td>NaN</td>\n",
              "    </tr>\n",
              "    <tr>\n",
              "      <th>2</th>\n",
              "      <td>000ae57e-2d48-11ea-abeb-c412f533dba1</td>\n",
              "      <td>2020-01-02 14:08:56</td>\n",
              "      <td>43756fa4-57a0-11e9-ab9a-c412f533dba1</td>\n",
              "      <td>NaN</td>\n",
              "      <td>NaT</td>\n",
              "      <td>NaN</td>\n",
              "      <td>NaN</td>\n",
              "      <td>NaN</td>\n",
              "      <td>NaN</td>\n",
              "      <td>NaN</td>\n",
              "      <td>NaN</td>\n",
              "      <td>NaN</td>\n",
              "      <td>NaN</td>\n",
              "      <td>NaT</td>\n",
              "      <td>NaN</td>\n",
              "      <td>NaN</td>\n",
              "      <td>False</td>\n",
              "      <td>False</td>\n",
              "      <td>NaT</td>\n",
              "      <td>NaN</td>\n",
              "    </tr>\n",
              "    <tr>\n",
              "      <th>3</th>\n",
              "      <td>00133cde-481c-11ea-abeb-c412f533dba1</td>\n",
              "      <td>2020-02-05 17:25:13</td>\n",
              "      <td>9a87c608-52dc-11ea-abeb-c412f533dba1</td>\n",
              "      <td>NaN</td>\n",
              "      <td>NaT</td>\n",
              "      <td>NaN</td>\n",
              "      <td>NaN</td>\n",
              "      <td>NaN</td>\n",
              "      <td>NaN</td>\n",
              "      <td>NaN</td>\n",
              "      <td>NaN</td>\n",
              "      <td>NaN</td>\n",
              "      <td>NaN</td>\n",
              "      <td>NaT</td>\n",
              "      <td>NaN</td>\n",
              "      <td>NaN</td>\n",
              "      <td>False</td>\n",
              "      <td>False</td>\n",
              "      <td>NaT</td>\n",
              "      <td>NaN</td>\n",
              "    </tr>\n",
              "    <tr>\n",
              "      <th>4</th>\n",
              "      <td>00148d3f-07e6-11e8-812a-c412f533dba1</td>\n",
              "      <td>2018-02-02 00:00:00</td>\n",
              "      <td>abed5496-ca88-11e9-abb8-c412f533dba1</td>\n",
              "      <td>NaN</td>\n",
              "      <td>NaT</td>\n",
              "      <td>NaN</td>\n",
              "      <td>NaN</td>\n",
              "      <td>NaN</td>\n",
              "      <td>NaN</td>\n",
              "      <td>NaN</td>\n",
              "      <td>NaN</td>\n",
              "      <td>NaN</td>\n",
              "      <td>NaN</td>\n",
              "      <td>NaT</td>\n",
              "      <td>NaN</td>\n",
              "      <td>NaN</td>\n",
              "      <td>False</td>\n",
              "      <td>False</td>\n",
              "      <td>NaT</td>\n",
              "      <td>NaN</td>\n",
              "    </tr>\n",
              "    <tr>\n",
              "      <th>...</th>\n",
              "      <td>...</td>\n",
              "      <td>...</td>\n",
              "      <td>...</td>\n",
              "      <td>...</td>\n",
              "      <td>...</td>\n",
              "      <td>...</td>\n",
              "      <td>...</td>\n",
              "      <td>...</td>\n",
              "      <td>...</td>\n",
              "      <td>...</td>\n",
              "      <td>...</td>\n",
              "      <td>...</td>\n",
              "      <td>...</td>\n",
              "      <td>...</td>\n",
              "      <td>...</td>\n",
              "      <td>...</td>\n",
              "      <td>...</td>\n",
              "      <td>...</td>\n",
              "      <td>...</td>\n",
              "      <td>...</td>\n",
              "    </tr>\n",
              "    <tr>\n",
              "      <th>104817</th>\n",
              "      <td>NaN</td>\n",
              "      <td>NaT</td>\n",
              "      <td>NaN</td>\n",
              "      <td>NaN</td>\n",
              "      <td>NaT</td>\n",
              "      <td>NaN</td>\n",
              "      <td>NaN</td>\n",
              "      <td>NaN</td>\n",
              "      <td>NaN</td>\n",
              "      <td>NaN</td>\n",
              "      <td>NaN</td>\n",
              "      <td>NaN</td>\n",
              "      <td>e22d08ce-11bf-41a2-be68-3308332f42a6</td>\n",
              "      <td>2020-01-07 08:00:59</td>\n",
              "      <td>0.0</td>\n",
              "      <td>befc3c0b-d5a3-11e9-abbe-c412f533dba1</td>\n",
              "      <td>False</td>\n",
              "      <td>False</td>\n",
              "      <td>NaT</td>\n",
              "      <td>NaN</td>\n",
              "    </tr>\n",
              "    <tr>\n",
              "      <th>104818</th>\n",
              "      <td>NaN</td>\n",
              "      <td>NaT</td>\n",
              "      <td>NaN</td>\n",
              "      <td>NaN</td>\n",
              "      <td>NaT</td>\n",
              "      <td>NaN</td>\n",
              "      <td>NaN</td>\n",
              "      <td>NaN</td>\n",
              "      <td>NaN</td>\n",
              "      <td>NaN</td>\n",
              "      <td>NaN</td>\n",
              "      <td>NaN</td>\n",
              "      <td>96a35b77-b3af-4d3b-be7b-2001cf8fb4f7</td>\n",
              "      <td>2020-02-07 03:45:45</td>\n",
              "      <td>0.0</td>\n",
              "      <td>eef0ac0f-e919-11e9-abd7-c412f533dba1</td>\n",
              "      <td>False</td>\n",
              "      <td>False</td>\n",
              "      <td>NaT</td>\n",
              "      <td>NaN</td>\n",
              "    </tr>\n",
              "    <tr>\n",
              "      <th>104819</th>\n",
              "      <td>NaN</td>\n",
              "      <td>NaT</td>\n",
              "      <td>NaN</td>\n",
              "      <td>NaN</td>\n",
              "      <td>NaT</td>\n",
              "      <td>NaN</td>\n",
              "      <td>NaN</td>\n",
              "      <td>NaN</td>\n",
              "      <td>NaN</td>\n",
              "      <td>NaN</td>\n",
              "      <td>NaN</td>\n",
              "      <td>NaN</td>\n",
              "      <td>834b104c-b0d6-4dcd-bee4-20b9ce8dcae7</td>\n",
              "      <td>2020-01-23 03:45:34</td>\n",
              "      <td>0.0</td>\n",
              "      <td>7bac29e7-d5a7-11e9-abbe-c412f533dba1</td>\n",
              "      <td>False</td>\n",
              "      <td>False</td>\n",
              "      <td>NaT</td>\n",
              "      <td>NaN</td>\n",
              "    </tr>\n",
              "    <tr>\n",
              "      <th>104820</th>\n",
              "      <td>NaN</td>\n",
              "      <td>NaT</td>\n",
              "      <td>NaN</td>\n",
              "      <td>NaN</td>\n",
              "      <td>NaT</td>\n",
              "      <td>NaN</td>\n",
              "      <td>NaN</td>\n",
              "      <td>NaN</td>\n",
              "      <td>NaN</td>\n",
              "      <td>NaN</td>\n",
              "      <td>NaN</td>\n",
              "      <td>NaN</td>\n",
              "      <td>c64c03a7-b5b4-49f4-bf5f-268227e105ee</td>\n",
              "      <td>2020-01-23 03:45:36</td>\n",
              "      <td>0.0</td>\n",
              "      <td>760e1f4e-6fd8-11e7-80fc-c412f533dba1</td>\n",
              "      <td>False</td>\n",
              "      <td>False</td>\n",
              "      <td>NaT</td>\n",
              "      <td>NaN</td>\n",
              "    </tr>\n",
              "    <tr>\n",
              "      <th>104821</th>\n",
              "      <td>NaN</td>\n",
              "      <td>NaT</td>\n",
              "      <td>NaN</td>\n",
              "      <td>NaN</td>\n",
              "      <td>NaT</td>\n",
              "      <td>NaN</td>\n",
              "      <td>NaN</td>\n",
              "      <td>NaN</td>\n",
              "      <td>NaN</td>\n",
              "      <td>NaN</td>\n",
              "      <td>NaN</td>\n",
              "      <td>NaN</td>\n",
              "      <td>38c5f7e0-3dc1-48ba-bfed-fc08a7758d4e</td>\n",
              "      <td>2020-01-26 03:45:52</td>\n",
              "      <td>0.0</td>\n",
              "      <td>a9646c16-d5a2-11e9-abbe-c412f533dba1</td>\n",
              "      <td>False</td>\n",
              "      <td>False</td>\n",
              "      <td>NaT</td>\n",
              "      <td>NaN</td>\n",
              "    </tr>\n",
              "  </tbody>\n",
              "</table>\n",
              "<p>104822 rows × 20 columns</p>\n",
              "</div>"
            ],
            "text/plain": [
              "                                   client_id  ... f_buy\n",
              "0       0001da7d-fcda-11ea-ac18-c412f533dba1  ...   NaN\n",
              "1       000a8743-9ae1-11e7-8114-c412f533dba1  ...   NaN\n",
              "2       000ae57e-2d48-11ea-abeb-c412f533dba1  ...   NaN\n",
              "3       00133cde-481c-11ea-abeb-c412f533dba1  ...   NaN\n",
              "4       00148d3f-07e6-11e8-812a-c412f533dba1  ...   NaN\n",
              "...                                      ...  ...   ...\n",
              "104817                                   NaN  ...   NaN\n",
              "104818                                   NaN  ...   NaN\n",
              "104819                                   NaN  ...   NaN\n",
              "104820                                   NaN  ...   NaN\n",
              "104821                                   NaN  ...   NaN\n",
              "\n",
              "[104822 rows x 20 columns]"
            ]
          },
          "metadata": {
            "tags": []
          },
          "execution_count": 143
        }
      ]
    },
    {
      "cell_type": "code",
      "metadata": {
        "colab": {
          "base_uri": "https://localhost:8080/"
        },
        "id": "YSClAOs_j4Ew",
        "outputId": "12886909-8adb-411e-b29f-2378d8524527"
      },
      "source": [
        "# старых клиентов 1667\n",
        "df_clmt[\"old\"].value_counts()"
      ],
      "execution_count": 144,
      "outputs": [
        {
          "output_type": "execute_result",
          "data": {
            "text/plain": [
              "False    103155\n",
              "True       1667\n",
              "Name: old, dtype: int64"
            ]
          },
          "metadata": {
            "tags": []
          },
          "execution_count": 144
        }
      ]
    },
    {
      "cell_type": "code",
      "metadata": {
        "colab": {
          "base_uri": "https://localhost:8080/"
        },
        "id": "P9ZdiUKJ1_zs",
        "outputId": "b56a4c86-ca37-4a97-b4b7-112946cf55c9"
      },
      "source": [
        "# дропнутых клиентов 824\n",
        "df_clmt[\"dropped\"].value_counts()"
      ],
      "execution_count": 145,
      "outputs": [
        {
          "output_type": "execute_result",
          "data": {
            "text/plain": [
              "False    103998\n",
              "True        824\n",
              "Name: dropped, dtype: int64"
            ]
          },
          "metadata": {
            "tags": []
          },
          "execution_count": 145
        }
      ]
    },
    {
      "cell_type": "code",
      "metadata": {
        "id": "MzcLozYh42vk"
      },
      "source": [
        "df_clmt[\"is_fast_buy\"] = (df_clmt[\"f_buy\"] >= 0) & (df_clmt[\"f_buy\"] <= 7)"
      ],
      "execution_count": 146,
      "outputs": []
    },
    {
      "cell_type": "markdown",
      "metadata": {
        "id": "_mNhz2EUtIaY"
      },
      "source": [
        "Удаляем все строки, где нет ID клиента в заказах (дропнутные пользователи остаются в списке):"
      ]
    },
    {
      "cell_type": "code",
      "metadata": {
        "id": "13XFJbtIpIVp"
      },
      "source": [
        "df_clmt = df_clmt[df_clmt[\"l_client_id\"].notna()]"
      ],
      "execution_count": 147,
      "outputs": []
    },
    {
      "cell_type": "code",
      "metadata": {
        "colab": {
          "base_uri": "https://localhost:8080/",
          "height": 747
        },
        "id": "1QSpJqMwpO1O",
        "outputId": "9097da61-5c90-4da0-e31a-0348edb47d85"
      },
      "source": [
        "df_clmt"
      ],
      "execution_count": 148,
      "outputs": [
        {
          "output_type": "execute_result",
          "data": {
            "text/html": [
              "<div>\n",
              "<style scoped>\n",
              "    .dataframe tbody tr th:only-of-type {\n",
              "        vertical-align: middle;\n",
              "    }\n",
              "\n",
              "    .dataframe tbody tr th {\n",
              "        vertical-align: top;\n",
              "    }\n",
              "\n",
              "    .dataframe thead th {\n",
              "        text-align: right;\n",
              "    }\n",
              "</style>\n",
              "<table border=\"1\" class=\"dataframe\">\n",
              "  <thead>\n",
              "    <tr style=\"text-align: right;\">\n",
              "      <th></th>\n",
              "      <th>client_id</th>\n",
              "      <th>created_at_x</th>\n",
              "      <th>l_manager_id_x</th>\n",
              "      <th>lead_id</th>\n",
              "      <th>created_at_y</th>\n",
              "      <th>d_utm_medium</th>\n",
              "      <th>d_utm_source</th>\n",
              "      <th>l_manager_id_y</th>\n",
              "      <th>l_client_id</th>\n",
              "      <th>manager_id</th>\n",
              "      <th>d_manager</th>\n",
              "      <th>d_club</th>\n",
              "      <th>transaction_id</th>\n",
              "      <th>created_at</th>\n",
              "      <th>m_real_amount</th>\n",
              "      <th>lead_client_id</th>\n",
              "      <th>dropped</th>\n",
              "      <th>old</th>\n",
              "      <th>fast_buy</th>\n",
              "      <th>f_buy</th>\n",
              "      <th>is_fast_buy</th>\n",
              "    </tr>\n",
              "  </thead>\n",
              "  <tbody>\n",
              "    <tr>\n",
              "      <th>73206</th>\n",
              "      <td>00817845-6fd6-11e7-80fc-c412f533dba1</td>\n",
              "      <td>2016-08-23 00:00:00</td>\n",
              "      <td>1e9c5562-0cfc-11ea-abe1-c412f533dba1</td>\n",
              "      <td>b3a85c94-1d2c-11eb-ac1d-c412f533dba1</td>\n",
              "      <td>2020-11-02 20:59:00</td>\n",
              "      <td>cpc</td>\n",
              "      <td>instagram</td>\n",
              "      <td>1e9c5562-0cfc-11ea-abe1-c412f533dba1</td>\n",
              "      <td>00817845-6fd6-11e7-80fc-c412f533dba1</td>\n",
              "      <td>1e9c5562-0cfc-11ea-abe1-c412f533dba1</td>\n",
              "      <td>manager #8</td>\n",
              "      <td>club #2</td>\n",
              "      <td>NaN</td>\n",
              "      <td>NaT</td>\n",
              "      <td>NaN</td>\n",
              "      <td>NaN</td>\n",
              "      <td>False</td>\n",
              "      <td>True</td>\n",
              "      <td>NaT</td>\n",
              "      <td>NaN</td>\n",
              "      <td>False</td>\n",
              "    </tr>\n",
              "    <tr>\n",
              "      <th>73207</th>\n",
              "      <td>05b7faaa-d149-11e9-abbd-c412f533dba1</td>\n",
              "      <td>2019-09-07 12:25:00</td>\n",
              "      <td>8e5a4a2a-02ef-11eb-ac18-c412f533dba1</td>\n",
              "      <td>0f5f7b15-2d6e-11eb-ac1f-c412f533dba1</td>\n",
              "      <td>2020-11-23 13:27:10</td>\n",
              "      <td>cpi</td>\n",
              "      <td>sms</td>\n",
              "      <td>1e9c5562-0cfc-11ea-abe1-c412f533dba1</td>\n",
              "      <td>05b7faaa-d149-11e9-abbd-c412f533dba1</td>\n",
              "      <td>1e9c5562-0cfc-11ea-abe1-c412f533dba1</td>\n",
              "      <td>manager #8</td>\n",
              "      <td>club #2</td>\n",
              "      <td>NaN</td>\n",
              "      <td>NaT</td>\n",
              "      <td>NaN</td>\n",
              "      <td>NaN</td>\n",
              "      <td>False</td>\n",
              "      <td>True</td>\n",
              "      <td>NaT</td>\n",
              "      <td>NaN</td>\n",
              "      <td>False</td>\n",
              "    </tr>\n",
              "    <tr>\n",
              "      <th>73208</th>\n",
              "      <td>0ed85394-c4da-11e9-abb6-c412f533dba1</td>\n",
              "      <td>2019-08-22 00:00:00</td>\n",
              "      <td>5dd88f32-6501-11ea-abf3-c412f533dba1</td>\n",
              "      <td>1be590c9-0e2b-11eb-ac1a-c412f533dba1</td>\n",
              "      <td>2020-10-14 18:39:54</td>\n",
              "      <td></td>\n",
              "      <td></td>\n",
              "      <td>1e9c5562-0cfc-11ea-abe1-c412f533dba1</td>\n",
              "      <td>0ed85394-c4da-11e9-abb6-c412f533dba1</td>\n",
              "      <td>1e9c5562-0cfc-11ea-abe1-c412f533dba1</td>\n",
              "      <td>manager #8</td>\n",
              "      <td>club #2</td>\n",
              "      <td>NaN</td>\n",
              "      <td>NaT</td>\n",
              "      <td>NaN</td>\n",
              "      <td>NaN</td>\n",
              "      <td>False</td>\n",
              "      <td>True</td>\n",
              "      <td>NaT</td>\n",
              "      <td>NaN</td>\n",
              "      <td>False</td>\n",
              "    </tr>\n",
              "    <tr>\n",
              "      <th>73209</th>\n",
              "      <td>10530fbf-ed99-11e9-abda-c412f533dba1</td>\n",
              "      <td>2019-10-13 13:08:25</td>\n",
              "      <td>1e9c5562-0cfc-11ea-abe1-c412f533dba1</td>\n",
              "      <td>202ea177-0ecf-11eb-ac1a-c412f533dba1</td>\n",
              "      <td>2020-10-15 14:13:53</td>\n",
              "      <td>sms</td>\n",
              "      <td>viber</td>\n",
              "      <td>1e9c5562-0cfc-11ea-abe1-c412f533dba1</td>\n",
              "      <td>10530fbf-ed99-11e9-abda-c412f533dba1</td>\n",
              "      <td>1e9c5562-0cfc-11ea-abe1-c412f533dba1</td>\n",
              "      <td>manager #8</td>\n",
              "      <td>club #2</td>\n",
              "      <td>849602e9-c7cf-47ce-bc03-6d12f651dfff</td>\n",
              "      <td>2020-10-18 10:33:37</td>\n",
              "      <td>22604.0</td>\n",
              "      <td>10530fbf-ed99-11e9-abda-c412f533dba1</td>\n",
              "      <td>False</td>\n",
              "      <td>True</td>\n",
              "      <td>-3 days +03:40:16</td>\n",
              "      <td>-3.0</td>\n",
              "      <td>False</td>\n",
              "    </tr>\n",
              "    <tr>\n",
              "      <th>73210</th>\n",
              "      <td>126f95f3-6fd6-11e7-80fc-c412f533dba1</td>\n",
              "      <td>2016-01-19 00:00:00</td>\n",
              "      <td>5dd88f32-6501-11ea-abf3-c412f533dba1</td>\n",
              "      <td>4bc28390-1889-11eb-ac1d-c412f533dba1</td>\n",
              "      <td>2020-10-27 23:19:13</td>\n",
              "      <td>cpc</td>\n",
              "      <td>instagram</td>\n",
              "      <td>1e9c5562-0cfc-11ea-abe1-c412f533dba1</td>\n",
              "      <td>126f95f3-6fd6-11e7-80fc-c412f533dba1</td>\n",
              "      <td>1e9c5562-0cfc-11ea-abe1-c412f533dba1</td>\n",
              "      <td>manager #8</td>\n",
              "      <td>club #2</td>\n",
              "      <td>NaN</td>\n",
              "      <td>NaT</td>\n",
              "      <td>NaN</td>\n",
              "      <td>NaN</td>\n",
              "      <td>False</td>\n",
              "      <td>True</td>\n",
              "      <td>NaT</td>\n",
              "      <td>NaN</td>\n",
              "      <td>False</td>\n",
              "    </tr>\n",
              "    <tr>\n",
              "      <th>...</th>\n",
              "      <td>...</td>\n",
              "      <td>...</td>\n",
              "      <td>...</td>\n",
              "      <td>...</td>\n",
              "      <td>...</td>\n",
              "      <td>...</td>\n",
              "      <td>...</td>\n",
              "      <td>...</td>\n",
              "      <td>...</td>\n",
              "      <td>...</td>\n",
              "      <td>...</td>\n",
              "      <td>...</td>\n",
              "      <td>...</td>\n",
              "      <td>...</td>\n",
              "      <td>...</td>\n",
              "      <td>...</td>\n",
              "      <td>...</td>\n",
              "      <td>...</td>\n",
              "      <td>...</td>\n",
              "      <td>...</td>\n",
              "      <td>...</td>\n",
              "    </tr>\n",
              "    <tr>\n",
              "      <th>77496</th>\n",
              "      <td>NaN</td>\n",
              "      <td>NaT</td>\n",
              "      <td>NaN</td>\n",
              "      <td>623dbf3c-2053-11eb-ac1d-c412f533dba1</td>\n",
              "      <td>2020-11-06 21:13:27</td>\n",
              "      <td></td>\n",
              "      <td></td>\n",
              "      <td>997dc1c9-a85e-11e9-abb0-c412f533dba1</td>\n",
              "      <td>623dbf3d-2053-11eb-ac1d-c412f533dba1</td>\n",
              "      <td>NaN</td>\n",
              "      <td>NaN</td>\n",
              "      <td>NaN</td>\n",
              "      <td>9c146fa2-241d-4f61-b53a-7b1636015c3b</td>\n",
              "      <td>2020-11-06 18:19:42</td>\n",
              "      <td>39802.0</td>\n",
              "      <td>623dbf3d-2053-11eb-ac1d-c412f533dba1</td>\n",
              "      <td>False</td>\n",
              "      <td>False</td>\n",
              "      <td>0 days 02:53:45</td>\n",
              "      <td>0.0</td>\n",
              "      <td>True</td>\n",
              "    </tr>\n",
              "    <tr>\n",
              "      <th>77497</th>\n",
              "      <td>NaN</td>\n",
              "      <td>NaT</td>\n",
              "      <td>NaN</td>\n",
              "      <td>7b16ce91-25cb-11eb-ac1d-c412f533dba1</td>\n",
              "      <td>2020-11-13 20:15:44</td>\n",
              "      <td></td>\n",
              "      <td></td>\n",
              "      <td>994accfd-03e6-11eb-ac18-c412f533dba1</td>\n",
              "      <td>5553ddfc-27d1-11eb-ac1f-c412f533dba1</td>\n",
              "      <td>NaN</td>\n",
              "      <td>NaN</td>\n",
              "      <td>NaN</td>\n",
              "      <td>NaN</td>\n",
              "      <td>NaT</td>\n",
              "      <td>NaN</td>\n",
              "      <td>NaN</td>\n",
              "      <td>False</td>\n",
              "      <td>False</td>\n",
              "      <td>NaT</td>\n",
              "      <td>NaN</td>\n",
              "      <td>False</td>\n",
              "    </tr>\n",
              "    <tr>\n",
              "      <th>77498</th>\n",
              "      <td>NaN</td>\n",
              "      <td>NaT</td>\n",
              "      <td>NaN</td>\n",
              "      <td>7dd69b9a-0d24-11eb-ac1a-c412f533dba1</td>\n",
              "      <td>2020-10-13 11:19:55</td>\n",
              "      <td></td>\n",
              "      <td></td>\n",
              "      <td>31298620-0355-11eb-ac18-c412f533dba1</td>\n",
              "      <td>76d55455-0d24-11eb-ac1a-c412f533dba1</td>\n",
              "      <td>NaN</td>\n",
              "      <td>NaN</td>\n",
              "      <td>NaN</td>\n",
              "      <td>NaN</td>\n",
              "      <td>NaT</td>\n",
              "      <td>NaN</td>\n",
              "      <td>NaN</td>\n",
              "      <td>False</td>\n",
              "      <td>False</td>\n",
              "      <td>NaT</td>\n",
              "      <td>NaN</td>\n",
              "      <td>False</td>\n",
              "    </tr>\n",
              "    <tr>\n",
              "      <th>77499</th>\n",
              "      <td>NaN</td>\n",
              "      <td>NaT</td>\n",
              "      <td>NaN</td>\n",
              "      <td>88f7896c-1a92-11eb-ac1d-c412f533dba1</td>\n",
              "      <td>2020-10-30 13:30:24</td>\n",
              "      <td></td>\n",
              "      <td></td>\n",
              "      <td>31d3f905-0c7c-11eb-ac1a-c412f533dba1</td>\n",
              "      <td>88f7896d-1a92-11eb-ac1d-c412f533dba1</td>\n",
              "      <td>NaN</td>\n",
              "      <td>NaN</td>\n",
              "      <td>NaN</td>\n",
              "      <td>8988b78b-b820-4d98-bfe8-d78502fa4f71</td>\n",
              "      <td>2020-10-30 10:31:05</td>\n",
              "      <td>2133.0</td>\n",
              "      <td>88f7896d-1a92-11eb-ac1d-c412f533dba1</td>\n",
              "      <td>False</td>\n",
              "      <td>False</td>\n",
              "      <td>0 days 02:59:19</td>\n",
              "      <td>0.0</td>\n",
              "      <td>True</td>\n",
              "    </tr>\n",
              "    <tr>\n",
              "      <th>77500</th>\n",
              "      <td>NaN</td>\n",
              "      <td>NaT</td>\n",
              "      <td>NaN</td>\n",
              "      <td>f9be181c-0d10-11eb-ac1a-c412f533dba1</td>\n",
              "      <td>2020-10-13 09:00:13</td>\n",
              "      <td>cpc</td>\n",
              "      <td>google</td>\n",
              "      <td>d6a49e22-f74f-11ea-ac18-c412f533dba1</td>\n",
              "      <td>a601b931-0d38-11eb-ac1a-c412f533dba1</td>\n",
              "      <td>NaN</td>\n",
              "      <td>NaN</td>\n",
              "      <td>NaN</td>\n",
              "      <td>NaN</td>\n",
              "      <td>NaT</td>\n",
              "      <td>NaN</td>\n",
              "      <td>NaN</td>\n",
              "      <td>False</td>\n",
              "      <td>False</td>\n",
              "      <td>NaT</td>\n",
              "      <td>NaN</td>\n",
              "      <td>False</td>\n",
              "    </tr>\n",
              "  </tbody>\n",
              "</table>\n",
              "<p>4295 rows × 21 columns</p>\n",
              "</div>"
            ],
            "text/plain": [
              "                                  client_id  ... is_fast_buy\n",
              "73206  00817845-6fd6-11e7-80fc-c412f533dba1  ...       False\n",
              "73207  05b7faaa-d149-11e9-abbd-c412f533dba1  ...       False\n",
              "73208  0ed85394-c4da-11e9-abb6-c412f533dba1  ...       False\n",
              "73209  10530fbf-ed99-11e9-abda-c412f533dba1  ...       False\n",
              "73210  126f95f3-6fd6-11e7-80fc-c412f533dba1  ...       False\n",
              "...                                     ...  ...         ...\n",
              "77496                                   NaN  ...        True\n",
              "77497                                   NaN  ...       False\n",
              "77498                                   NaN  ...       False\n",
              "77499                                   NaN  ...        True\n",
              "77500                                   NaN  ...       False\n",
              "\n",
              "[4295 rows x 21 columns]"
            ]
          },
          "metadata": {
            "tags": []
          },
          "execution_count": 148
        }
      ]
    },
    {
      "cell_type": "markdown",
      "metadata": {
        "id": "ypQBB94M7Bro"
      },
      "source": [
        "Удалим лишние столбцы, которые более не понадобятся:"
      ]
    },
    {
      "cell_type": "code",
      "metadata": {
        "id": "procJOiItsEx"
      },
      "source": [
        "df_clmt = df_clmt.drop([\"client_id\", \"created_at_x\", \"l_manager_id_x\", \"d_utm_medium\", \"l_manager_id_y\", \"manager_id\", \"fast_buy\", \"f_buy\"], axis=1)"
      ],
      "execution_count": 149,
      "outputs": []
    },
    {
      "cell_type": "code",
      "metadata": {
        "colab": {
          "base_uri": "https://localhost:8080/",
          "height": 414
        },
        "id": "1wYTiiwOugyB",
        "outputId": "48680147-176c-485e-cb27-1b303ae7538f"
      },
      "source": [
        "df_clmt"
      ],
      "execution_count": 150,
      "outputs": [
        {
          "output_type": "execute_result",
          "data": {
            "text/html": [
              "<div>\n",
              "<style scoped>\n",
              "    .dataframe tbody tr th:only-of-type {\n",
              "        vertical-align: middle;\n",
              "    }\n",
              "\n",
              "    .dataframe tbody tr th {\n",
              "        vertical-align: top;\n",
              "    }\n",
              "\n",
              "    .dataframe thead th {\n",
              "        text-align: right;\n",
              "    }\n",
              "</style>\n",
              "<table border=\"1\" class=\"dataframe\">\n",
              "  <thead>\n",
              "    <tr style=\"text-align: right;\">\n",
              "      <th></th>\n",
              "      <th>lead_id</th>\n",
              "      <th>created_at_y</th>\n",
              "      <th>d_utm_source</th>\n",
              "      <th>l_client_id</th>\n",
              "      <th>d_manager</th>\n",
              "      <th>d_club</th>\n",
              "      <th>transaction_id</th>\n",
              "      <th>created_at</th>\n",
              "      <th>m_real_amount</th>\n",
              "      <th>lead_client_id</th>\n",
              "      <th>dropped</th>\n",
              "      <th>old</th>\n",
              "      <th>is_fast_buy</th>\n",
              "    </tr>\n",
              "  </thead>\n",
              "  <tbody>\n",
              "    <tr>\n",
              "      <th>73206</th>\n",
              "      <td>b3a85c94-1d2c-11eb-ac1d-c412f533dba1</td>\n",
              "      <td>2020-11-02 20:59:00</td>\n",
              "      <td>instagram</td>\n",
              "      <td>00817845-6fd6-11e7-80fc-c412f533dba1</td>\n",
              "      <td>manager #8</td>\n",
              "      <td>club #2</td>\n",
              "      <td>NaN</td>\n",
              "      <td>NaT</td>\n",
              "      <td>NaN</td>\n",
              "      <td>NaN</td>\n",
              "      <td>False</td>\n",
              "      <td>True</td>\n",
              "      <td>False</td>\n",
              "    </tr>\n",
              "    <tr>\n",
              "      <th>73207</th>\n",
              "      <td>0f5f7b15-2d6e-11eb-ac1f-c412f533dba1</td>\n",
              "      <td>2020-11-23 13:27:10</td>\n",
              "      <td>sms</td>\n",
              "      <td>05b7faaa-d149-11e9-abbd-c412f533dba1</td>\n",
              "      <td>manager #8</td>\n",
              "      <td>club #2</td>\n",
              "      <td>NaN</td>\n",
              "      <td>NaT</td>\n",
              "      <td>NaN</td>\n",
              "      <td>NaN</td>\n",
              "      <td>False</td>\n",
              "      <td>True</td>\n",
              "      <td>False</td>\n",
              "    </tr>\n",
              "    <tr>\n",
              "      <th>73208</th>\n",
              "      <td>1be590c9-0e2b-11eb-ac1a-c412f533dba1</td>\n",
              "      <td>2020-10-14 18:39:54</td>\n",
              "      <td></td>\n",
              "      <td>0ed85394-c4da-11e9-abb6-c412f533dba1</td>\n",
              "      <td>manager #8</td>\n",
              "      <td>club #2</td>\n",
              "      <td>NaN</td>\n",
              "      <td>NaT</td>\n",
              "      <td>NaN</td>\n",
              "      <td>NaN</td>\n",
              "      <td>False</td>\n",
              "      <td>True</td>\n",
              "      <td>False</td>\n",
              "    </tr>\n",
              "    <tr>\n",
              "      <th>73209</th>\n",
              "      <td>202ea177-0ecf-11eb-ac1a-c412f533dba1</td>\n",
              "      <td>2020-10-15 14:13:53</td>\n",
              "      <td>viber</td>\n",
              "      <td>10530fbf-ed99-11e9-abda-c412f533dba1</td>\n",
              "      <td>manager #8</td>\n",
              "      <td>club #2</td>\n",
              "      <td>849602e9-c7cf-47ce-bc03-6d12f651dfff</td>\n",
              "      <td>2020-10-18 10:33:37</td>\n",
              "      <td>22604.0</td>\n",
              "      <td>10530fbf-ed99-11e9-abda-c412f533dba1</td>\n",
              "      <td>False</td>\n",
              "      <td>True</td>\n",
              "      <td>False</td>\n",
              "    </tr>\n",
              "    <tr>\n",
              "      <th>73210</th>\n",
              "      <td>4bc28390-1889-11eb-ac1d-c412f533dba1</td>\n",
              "      <td>2020-10-27 23:19:13</td>\n",
              "      <td>instagram</td>\n",
              "      <td>126f95f3-6fd6-11e7-80fc-c412f533dba1</td>\n",
              "      <td>manager #8</td>\n",
              "      <td>club #2</td>\n",
              "      <td>NaN</td>\n",
              "      <td>NaT</td>\n",
              "      <td>NaN</td>\n",
              "      <td>NaN</td>\n",
              "      <td>False</td>\n",
              "      <td>True</td>\n",
              "      <td>False</td>\n",
              "    </tr>\n",
              "    <tr>\n",
              "      <th>...</th>\n",
              "      <td>...</td>\n",
              "      <td>...</td>\n",
              "      <td>...</td>\n",
              "      <td>...</td>\n",
              "      <td>...</td>\n",
              "      <td>...</td>\n",
              "      <td>...</td>\n",
              "      <td>...</td>\n",
              "      <td>...</td>\n",
              "      <td>...</td>\n",
              "      <td>...</td>\n",
              "      <td>...</td>\n",
              "      <td>...</td>\n",
              "    </tr>\n",
              "    <tr>\n",
              "      <th>77496</th>\n",
              "      <td>623dbf3c-2053-11eb-ac1d-c412f533dba1</td>\n",
              "      <td>2020-11-06 21:13:27</td>\n",
              "      <td></td>\n",
              "      <td>623dbf3d-2053-11eb-ac1d-c412f533dba1</td>\n",
              "      <td>NaN</td>\n",
              "      <td>NaN</td>\n",
              "      <td>9c146fa2-241d-4f61-b53a-7b1636015c3b</td>\n",
              "      <td>2020-11-06 18:19:42</td>\n",
              "      <td>39802.0</td>\n",
              "      <td>623dbf3d-2053-11eb-ac1d-c412f533dba1</td>\n",
              "      <td>False</td>\n",
              "      <td>False</td>\n",
              "      <td>True</td>\n",
              "    </tr>\n",
              "    <tr>\n",
              "      <th>77497</th>\n",
              "      <td>7b16ce91-25cb-11eb-ac1d-c412f533dba1</td>\n",
              "      <td>2020-11-13 20:15:44</td>\n",
              "      <td></td>\n",
              "      <td>5553ddfc-27d1-11eb-ac1f-c412f533dba1</td>\n",
              "      <td>NaN</td>\n",
              "      <td>NaN</td>\n",
              "      <td>NaN</td>\n",
              "      <td>NaT</td>\n",
              "      <td>NaN</td>\n",
              "      <td>NaN</td>\n",
              "      <td>False</td>\n",
              "      <td>False</td>\n",
              "      <td>False</td>\n",
              "    </tr>\n",
              "    <tr>\n",
              "      <th>77498</th>\n",
              "      <td>7dd69b9a-0d24-11eb-ac1a-c412f533dba1</td>\n",
              "      <td>2020-10-13 11:19:55</td>\n",
              "      <td></td>\n",
              "      <td>76d55455-0d24-11eb-ac1a-c412f533dba1</td>\n",
              "      <td>NaN</td>\n",
              "      <td>NaN</td>\n",
              "      <td>NaN</td>\n",
              "      <td>NaT</td>\n",
              "      <td>NaN</td>\n",
              "      <td>NaN</td>\n",
              "      <td>False</td>\n",
              "      <td>False</td>\n",
              "      <td>False</td>\n",
              "    </tr>\n",
              "    <tr>\n",
              "      <th>77499</th>\n",
              "      <td>88f7896c-1a92-11eb-ac1d-c412f533dba1</td>\n",
              "      <td>2020-10-30 13:30:24</td>\n",
              "      <td></td>\n",
              "      <td>88f7896d-1a92-11eb-ac1d-c412f533dba1</td>\n",
              "      <td>NaN</td>\n",
              "      <td>NaN</td>\n",
              "      <td>8988b78b-b820-4d98-bfe8-d78502fa4f71</td>\n",
              "      <td>2020-10-30 10:31:05</td>\n",
              "      <td>2133.0</td>\n",
              "      <td>88f7896d-1a92-11eb-ac1d-c412f533dba1</td>\n",
              "      <td>False</td>\n",
              "      <td>False</td>\n",
              "      <td>True</td>\n",
              "    </tr>\n",
              "    <tr>\n",
              "      <th>77500</th>\n",
              "      <td>f9be181c-0d10-11eb-ac1a-c412f533dba1</td>\n",
              "      <td>2020-10-13 09:00:13</td>\n",
              "      <td>google</td>\n",
              "      <td>a601b931-0d38-11eb-ac1a-c412f533dba1</td>\n",
              "      <td>NaN</td>\n",
              "      <td>NaN</td>\n",
              "      <td>NaN</td>\n",
              "      <td>NaT</td>\n",
              "      <td>NaN</td>\n",
              "      <td>NaN</td>\n",
              "      <td>False</td>\n",
              "      <td>False</td>\n",
              "      <td>False</td>\n",
              "    </tr>\n",
              "  </tbody>\n",
              "</table>\n",
              "<p>4295 rows × 13 columns</p>\n",
              "</div>"
            ],
            "text/plain": [
              "                                    lead_id  ... is_fast_buy\n",
              "73206  b3a85c94-1d2c-11eb-ac1d-c412f533dba1  ...       False\n",
              "73207  0f5f7b15-2d6e-11eb-ac1f-c412f533dba1  ...       False\n",
              "73208  1be590c9-0e2b-11eb-ac1a-c412f533dba1  ...       False\n",
              "73209  202ea177-0ecf-11eb-ac1a-c412f533dba1  ...       False\n",
              "73210  4bc28390-1889-11eb-ac1d-c412f533dba1  ...       False\n",
              "...                                     ...  ...         ...\n",
              "77496  623dbf3c-2053-11eb-ac1d-c412f533dba1  ...        True\n",
              "77497  7b16ce91-25cb-11eb-ac1d-c412f533dba1  ...       False\n",
              "77498  7dd69b9a-0d24-11eb-ac1a-c412f533dba1  ...       False\n",
              "77499  88f7896c-1a92-11eb-ac1d-c412f533dba1  ...        True\n",
              "77500  f9be181c-0d10-11eb-ac1a-c412f533dba1  ...       False\n",
              "\n",
              "[4295 rows x 13 columns]"
            ]
          },
          "metadata": {
            "tags": []
          },
          "execution_count": 150
        }
      ]
    },
    {
      "cell_type": "markdown",
      "metadata": {
        "id": "kTcTrfQN4neg"
      },
      "source": [
        "Скачаем файл, для дальнейшей обработки в Табло и построения Дашборда:"
      ]
    },
    {
      "cell_type": "code",
      "metadata": {
        "id": "fQgo0x9apdem"
      },
      "source": [
        "# df_clmt.to_excel(\"/content/drive/MyDrive/some_data/df_ready.xlsx\")"
      ],
      "execution_count": 151,
      "outputs": []
    }
  ]
}